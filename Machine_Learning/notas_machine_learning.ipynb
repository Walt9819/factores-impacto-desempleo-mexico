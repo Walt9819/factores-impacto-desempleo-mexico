{
  "nbformat": 4,
  "nbformat_minor": 0,
  "metadata": {
    "colab": {
      "name": "notas_machine_learning.ipynb",
      "provenance": [],
      "authorship_tag": "ABX9TyPf1wdO2mmyiKAgY4YiL+q7",
      "include_colab_link": true
    },
    "kernelspec": {
      "name": "python3",
      "display_name": "Python 3"
    },
    "language_info": {
      "name": "python"
    }
  },
  "cells": [
    {
      "cell_type": "markdown",
      "metadata": {
        "id": "view-in-github",
        "colab_type": "text"
      },
      "source": [
        "<a href=\"https://colab.research.google.com/github/Walt9819/factores-impacto-desempleo-mexico/blob/main/Machine_Learning/notas_machine_learning.ipynb\" target=\"_parent\"><img src=\"https://colab.research.google.com/assets/colab-badge.svg\" alt=\"Open In Colab\"/></a>"
      ]
    },
    {
      "cell_type": "markdown",
      "metadata": {
        "id": "Bkby9un_4vME"
      },
      "source": [
        "# **Modulo: Machine Learning Santander**"
      ]
    },
    {
      "cell_type": "markdown",
      "metadata": {
        "id": "Tr7iUUg65PDy"
      },
      "source": [
        "## Postwork 1: Introducción a Machine Learning"
      ]
    },
    {
      "cell_type": "code",
      "metadata": {
        "id": "RshUrKLa5OaP"
      },
      "source": [
        ""
      ],
      "execution_count": null,
      "outputs": []
    },
    {
      "cell_type": "markdown",
      "metadata": {
        "id": "LQ3ED-az6he7"
      },
      "source": [
        "## Postwork 2: Separación, validación y evaluación para algoritmos de ML"
      ]
    },
    {
      "cell_type": "code",
      "metadata": {
        "id": "O218m5EE6vQ4"
      },
      "source": [
        ""
      ],
      "execution_count": null,
      "outputs": []
    },
    {
      "cell_type": "markdown",
      "metadata": {
        "id": "Iz8VSmFL6vl8"
      },
      "source": [
        "## Postwork 3: Algoritmos no supervisados"
      ]
    },
    {
      "cell_type": "code",
      "metadata": {
        "id": "uENWpOl261ei"
      },
      "source": [
        ""
      ],
      "execution_count": null,
      "outputs": []
    },
    {
      "cell_type": "markdown",
      "metadata": {
        "id": "3vbDdfng61xD"
      },
      "source": [
        "## Postwork 4: Problemas de regresión"
      ]
    },
    {
      "cell_type": "code",
      "metadata": {
        "id": "8LOnhiPd7DlG"
      },
      "source": [
        ""
      ],
      "execution_count": null,
      "outputs": []
    },
    {
      "cell_type": "markdown",
      "metadata": {
        "id": "ehG0Kdfx7Czh"
      },
      "source": [
        "## Postwork 5: Árboles de decisión"
      ]
    },
    {
      "cell_type": "code",
      "metadata": {
        "id": "D_DJ9Bhp7KcE"
      },
      "source": [
        ""
      ],
      "execution_count": null,
      "outputs": []
    },
    {
      "cell_type": "markdown",
      "metadata": {
        "id": "bJ1yF7Ng7Kps"
      },
      "source": [
        "## Postwork 6: Clasificación y redes neuronales artificiales"
      ]
    },
    {
      "cell_type": "code",
      "metadata": {
        "id": "Imv1UeZX7RS1"
      },
      "source": [
        ""
      ],
      "execution_count": null,
      "outputs": []
    },
    {
      "cell_type": "markdown",
      "metadata": {
        "id": "OjTagVI67RmS"
      },
      "source": [
        "## Postwork 7: Arena de clasificadores"
      ]
    },
    {
      "cell_type": "code",
      "metadata": {
        "id": "dBNiEm127l75"
      },
      "source": [
        ""
      ],
      "execution_count": null,
      "outputs": []
    },
    {
      "cell_type": "markdown",
      "metadata": {
        "id": "8WeENu_n7mMF"
      },
      "source": [
        "## Postwork 8: Fundamentos de procesamiento de imágenes"
      ]
    },
    {
      "cell_type": "code",
      "metadata": {
        "id": "TNksajNh7sTC"
      },
      "source": [
        ""
      ],
      "execution_count": null,
      "outputs": []
    }
  ]
}