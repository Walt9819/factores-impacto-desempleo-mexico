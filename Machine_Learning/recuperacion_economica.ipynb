{
  "nbformat": 4,
  "nbformat_minor": 0,
  "metadata": {
    "colab": {
      "name": "recuperacion_economica.ipynb",
      "provenance": [],
      "authorship_tag": "ABX9TyNMIZyAlbrVb85NytFBV80g",
      "include_colab_link": true
    },
    "kernelspec": {
      "name": "python3",
      "display_name": "Python 3"
    },
    "language_info": {
      "name": "python"
    }
  },
  "cells": [
    {
      "cell_type": "markdown",
      "metadata": {
        "id": "view-in-github",
        "colab_type": "text"
      },
      "source": [
        "<a href=\"https://colab.research.google.com/github/Walt9819/factores-impacto-desempleo-mexico/blob/erisseiren/Machine_Learning/recuperacion_economica.ipynb\" target=\"_parent\"><img src=\"https://colab.research.google.com/assets/colab-badge.svg\" alt=\"Open In Colab\"/></a>"
      ]
    },
    {
      "cell_type": "markdown",
      "metadata": {
        "id": "Bkby9un_4vME"
      },
      "source": [
        "# **Modulo: Machine Learning Santander**"
      ]
    },
    {
      "cell_type": "code",
      "metadata": {
        "id": "fxVgkvSI41Zd"
      },
      "source": [
        ""
      ],
      "execution_count": null,
      "outputs": []
    }
  ]
}