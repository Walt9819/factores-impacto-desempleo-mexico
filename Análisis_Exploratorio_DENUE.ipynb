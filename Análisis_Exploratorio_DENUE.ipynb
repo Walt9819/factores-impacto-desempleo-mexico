{
  "nbformat": 4,
  "nbformat_minor": 0,
  "metadata": {
    "colab": {
      "name": "Análisis Exploratorio DENUE.ipynb",
      "provenance": [],
      "authorship_tag": "ABX9TyMrkedMwwm85GgJlY5pR1bi",
      "include_colab_link": true
    },
    "kernelspec": {
      "name": "python3",
      "display_name": "Python 3"
    }
  },
  "cells": [
    {
      "cell_type": "markdown",
      "metadata": {
        "id": "view-in-github",
        "colab_type": "text"
      },
      "source": [
        "<a href=\"https://colab.research.google.com/github/Walt9819/factores-impacto-desempleo-mexico/blob/erisseiren/An%C3%A1lisis_Exploratorio_DENUE.ipynb\" target=\"_parent\"><img src=\"https://colab.research.google.com/assets/colab-badge.svg\" alt=\"Open In Colab\"/></a>"
      ]
    },
    {
      "cell_type": "markdown",
      "metadata": {
        "id": "goE5BUNx19wM"
      },
      "source": [
        "**Encuesta Nacional de Población Privada de la Libertad (ENPOL) 2016**\r\n",
        "\r\n",
        "Análisis exploratorio del conjunto de datos"
      ]
    },
    {
      "cell_type": "code",
      "metadata": {
        "id": "yyfrBrgt2NXO"
      },
      "source": [
        ""
      ],
      "execution_count": null,
      "outputs": []
    }
  ]
}