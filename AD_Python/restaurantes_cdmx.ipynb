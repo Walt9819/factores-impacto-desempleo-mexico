{
  "nbformat": 4,
  "nbformat_minor": 0,
  "metadata": {
    "colab": {
      "name": "restaurantes_cdmx.ipynb",
      "provenance": [],
      "authorship_tag": "ABX9TyMUPDllTfKK9GZBCHBLaKD5",
      "include_colab_link": true
    },
    "kernelspec": {
      "name": "python3",
      "display_name": "Python 3"
    },
    "language_info": {
      "name": "python"
    }
  },
  "cells": [
    {
      "cell_type": "markdown",
      "metadata": {
        "id": "view-in-github",
        "colab_type": "text"
      },
      "source": [
        "<a href=\"https://colab.research.google.com/github/Walt9819/factores-impacto-desempleo-mexico/blob/main/AD_Python/restaurantes_cdmx.ipynb\" target=\"_parent\"><img src=\"https://colab.research.google.com/assets/colab-badge.svg\" alt=\"Open In Colab\"/></a>"
      ]
    },
    {
      "cell_type": "markdown",
      "metadata": {
        "id": "FxA5sd8scjSv"
      },
      "source": [
        "# **Recuperación económica post-COVID: Localización óptima de restaurantes en la Ciudad de México**"
      ]
    },
    {
      "cell_type": "markdown",
      "metadata": {
        "id": "2FWxppk0dDmq"
      },
      "source": [
        "## **1. Estimados de localización y variabilidad**\n",
        "\n",
        "Vamos a usar estimados de locación y variabilidad para describir nuestro dataset. Ya tenemos un dataset limpio, así que ahora toca extraer información útil de él.\n",
        "\n",
        "Recuerda que sólo es posible obtener estimados de locación y variabilidad cuando tenemos datos numéricos (tanto discretos como continuos).\n",
        "\n",
        "La actividad consiste en lo siguiente:\n",
        "\n",
        "1. Identifica las columnas de tu dataset que tengan datos numéricos.\n",
        "2. Identifica la relevancia de esas columnas (qué tan importantes son para responder a tus preguntas).\n",
        "3. Obtén los siguientes estimados de tus columnas numéricas:\n",
        "    \n",
        "    a. Promedio \n",
        "\n",
        "    b. Mediana \n",
        "\n",
        "    c. Media Truncada \n",
        "\n",
        "    d. Desviación estándar \n",
        "\n",
        "    e. Rango \n",
        "\n",
        "    f. Percentiles 25 y 75 (por lo menos) \n",
        "\n",
        "    g. Rango intercuartil"
      ]
    },
    {
      "cell_type": "code",
      "metadata": {
        "id": "BjjBEFkwcMXn"
      },
      "source": [
        ""
      ],
      "execution_count": null,
      "outputs": []
    },
    {
      "cell_type": "markdown",
      "metadata": {
        "id": "F9fJw9rpdPNe"
      },
      "source": [
        "## **2. Introducción a la visualización de datos: Distribuciones**\n",
        "\n",
        "En este Postwork vamos a explorar las distribuciones de las variables numéricas que tengamos en nuestro dataset.\n",
        "\n",
        "Realiza los siguientes procesos en los casos en los que tenga sentido aplicarlos:\n",
        "\n",
        "1. Utiliza boxplots para analizar la distribución de tus variables numéricas. Piensa acerca de cuáles son los valores típicos y atípicos y dónde están concentrados el grueso de tus datos.\n",
        "2. Utiliza el Score de Rango Intercuartílico para filtrar tus valores atípicos. Compara tus medianas, medias y desviaciones estándares antes y después de realizar la filtración y ve cuánto cambiaron.\n",
        "3. Utiliza tablas de frecuencia e histogramas para observar la distribución de tus variables. Caracteriza cada una de las distribuciones usando los términos que aprendiste durante la sesión. Obtén medidas de asimetría y curtosis para ver qué tan alejadas de la distribución normal están tus variables.\n",
        "4. Utiliza gráficas de densidad para comparar una variable numérica que pueda ser segmentada en dos o más categorías. Usa esta técnica para entender mejor cómo están distribuidos tus datos en cada uno de los grupos presentes."
      ]
    },
    {
      "cell_type": "markdown",
      "metadata": {
        "id": "29thf6XWfDET"
      },
      "source": [
        "## **3. Exploración de Variables Categóricas y Análisis Multivariable**\n",
        "\n",
        "En este Postwork vamos a explorar las distribuciones de las variables categóricas de nuestro dataset. En el postwork pasado exploramos las variables numéricas y ya deberías de tener una idea general bastante buena de cómo están organizadas. Ahora es momento de hacer análisis de variables categóricas y análisis multivariable. \n",
        "\n",
        "Realiza los siguientes pasos si tiene sentido aplicarlos a tu conjunto de datos:\n",
        "\n",
        "1. Si ya tienes gráficas realizadas en Postworks anteriores, agrega títulos, anotaciones y leyendas donde sea necesario. También cambia el tamaño de las gráficas donde tenga sentido hacerlo.\n",
        "2. Identifica todas las variables categóricas en tu dataset.\n",
        "3. Utiliza gráficas de barras para explorar la distribución de tus variables categóricas.\n",
        "4. Planea tu análisis multivariable: ¿qué combinaciones de variables categóricas podrían darme información útil acerca de la distribución de mis datos? ¿qué combinaciones de una variable numérica con una variable categórica podrían ser interesantes?\n",
        "5. Utiliza tablas de contingencia y múltiples gráficas en la misma figure para explorar combinaciones de variables categóricas.\n",
        "6. Utiliza boxplots y violinplots para explorar combinaciones de variables numéricas con variables categóricas.\n",
        "7. De preferencia ve registrando por escrito (ahí mismo en tu Notebook) todos tus hallazgos. Describe qué vas descubriendo y qué podría significar."
      ]
    },
    {
      "cell_type": "markdown",
      "metadata": {
        "id": "0NdbqRl0fafU"
      },
      "source": [
        "## **4. Correlaciones y Regresión Linear Simple**\n",
        "\n",
        "En este Postwork vamos a hacer análisis bivariado de nuestras variables numéricas. Si tu dataset sólo tiene variables categóricas o datos no estructurados (texto libre), entonces puedes pedirle a tu experta que te comparta algún dataset con el que puedas realizar estos ejercicios.\n",
        "\n",
        "Utilizando tu dataset, realiza las siguientes actividades:\n",
        "\n",
        "1. Identifica cuáles son las variables numéricas en tu dataset.\n",
        "2. Asegúrate de que tengan el tipo de dato correcto y que no haya NaNs por ahí escondidos.\n",
        "3. Genera una matriz de correlaciones y un pairplot para visualizar de manera general las relaciones entre tus variables numéricas.\n",
        "4. Utilizando gráficas de dispersión y tus medidas de locación y dispersión, identifica dónde hay valores atípicos y decide qué hacer con ellos.\n",
        "5. Revisa si tu revisión de valores atípicos cambió de alguna manera las relaciones existentes.\n",
        "6. Donde consideres necesario, entrena modelos de Regresión Lineal con un o más pares de variables. Incluso si no te parece que realizar predicciones entre pares de variables tiene sentido para tu proyecto, prueba realizar un par de regresiones para que practiques el procedimiento."
      ]
    },
    {
      "cell_type": "markdown",
      "metadata": {
        "id": "GSsveJgWfyYz"
      },
      "source": [
        "## **5. Distribuciones muestrales y técnicas de evaluación de modelos**\n",
        "\n",
        "En este Postwork vamos a analizar la incertidumbre y los sesgos que existen en las medidas de locación y dispersión de nuestras variables numéricas. También vamos a practicar el entrenamiento de modelos de Regresión Lineal Múltiple, aunque eso no sea el objetivo de tu proyecto. Realiza los siguientes pasos:\n",
        "\n",
        "1. Identifica las variables numéricas en tu dataset y revisa las medidas de locación y dispersión que ya has realizado de ellas.\n",
        "2. Utilizando la técnica de bootstrap, explora las distribuciones muestrales de las estadísticas que obtuviste anteriormente y reporta:\n",
        "    \n",
        "    a. La distribución, su asimetría y curtosis\n",
        "    \n",
        "    b. El error estándar\n",
        "\n",
        "    c. El intervalo de confianza que te parezca más apropiado\n",
        "\n",
        "3. Si tiene sentido, elige algunas de tus variables numéricas para entrenar uno o más modelos de Regresión Lineal Múltiple. Utiliza las técnicas de división de dataset y validación cruzada de K-iteraciones para asegurarte de que tu modelo generalice.\n",
        "4. Comparte con tus compañeros y la experta tus hallazgos."
      ]
    },
    {
      "cell_type": "markdown",
      "metadata": {
        "id": "PzzURn1pgaS0"
      },
      "source": [
        "## **6. Visualización de Datos Avanzada**\n",
        "\n",
        "En esta sesión conocimos muchos nuevos tipos de gráficas que nos ayudan a explorar y entender con más detalle nuestros datos. Ojalá y hayas percibido el poder tan grande que tienen las visualizaciones y la variedad tan enorme que existe. Cada visualización tiene sus ventajas y desventajas, sus características específicas, y es importante conocerlas bien para poder elegir la gráfica adecuada para cada momento. Revisa con detenimiento si hay alguna buena razón para utilizar en tu proyecto alguna de las gráficas que aprendimos hoy. \n",
        "\n",
        "Aquí hay un pequeño 'cheat sheet' para tomar estas decisiones:\n",
        "\n",
        "1. Si hay relaciones jerárquicas que quieras hacer claras o si quieres explorar las proporciones de una variable numérica agrupada en múltiples niveles utiliza un treemap.\n",
        "2. Si quieres explorar la relación entre dos variables numéricas divididas por una variable categórica, utiliza scatterplots por categorías o scatterplots con variables condicionantes.\n",
        "3. Si quieres explorar la relación entre dos variables numéricas pero tu dataset es tan grande que es imposible definir las densidades de tus datos, utiliza un binning hexagonal.\n",
        "4. Si quieres explorar datos geográficos, como definir regiones o puntos en un mapa o visualizar una variable numérica que puede segmentarse por regiones geográficas, utiliza un mapa cloroplético.\n",
        "5. Si quieres explorar una variable numérica agrupada en dos niveles por variables categóricas, utiliza una gráfica de barras apiladas."
      ]
    },
    {
      "cell_type": "markdown",
      "metadata": {
        "id": "f1NhStPCgvx4"
      },
      "source": [
        "## **7. Procesamiento de Lenguaje Natural**\n",
        "En esta sesión aprendimos dos cosas: Pruebas A/B y Procesamiento de Lenguaje Natural. No podemos practicar Pruebas A/B en nuestro proyecto, porque en realidad los proyectos que estamos realizando no se prestan a esto. No pasa nada, ¡ya tendrás oportunidad de practicar eso en tu primer trabajo como científico de datos!\n",
        "\n",
        "Por lo pronto en este Postwork vamos a practicar las técnicas de Procesamiento de Lenguaje Natural que hemos aprendido. Si tu dataset no contiene datos no estructurados, busca un dataset apropiado y realiza los siguientes ejercicios. Si tu dataset contiene datos no estructurados, entonces éste es el momento de agregar PLN a tu proyecto.\n",
        "\n",
        "Realiza los siguientes procedimientos en caso de que apliquen a tu dataset:\n",
        "\n",
        "1. Utiliza patrones Regex para limpiar tus datos estructurados\n",
        "2. Dado que debes de conocer bien tu dataset (excepto si es un nuevo dataset que buscaste para este Postwork), es probable que tengas una idea de las palabras que son relevantes para tu tema. Genera un objeto Text con la librería nltk y explora los contextos de las palabras que elegiste. Utiliza el método similar para obtener palabras que tengan contextos similares a las palabras originales. Puede que descubras nuevas palabras que tengan relevancia para tu proyecto.\n",
        "3. Utiliza el objeto FreqDist de nltk para hacer análisis estadístico de tu dataset. Explora las palabras y los bigramas más comunes de tu dataset.\n",
        "4. Realiza visualizaciones de tus conteos de frecuencias utilizando gráficas de barras.\n",
        "5. Realiza visualizaciones de las distribuciones de frecuencias de las longitudes de las palabras o de las oraciones.\n",
        "6. Realiza nubes de palabras para detectar los temas más importantes de tu conjunto de datos.\n",
        "7. Haz un análisis de sentimientos de tu conjunto de datos, de preferencia utilizando una variable categórica para segmentar tus datos y poder comparar las distribuciones de polaridades entre cada segmento."
      ]
    },
    {
      "cell_type": "markdown",
      "metadata": {
        "id": "lWz1iIwyhFm6"
      },
      "source": [
        "## **8. Clasificación No Supervisada y Supervisada**\n",
        "\n",
        "En este Postwork haremos dos cosas: practicar la aplicación del algoritmo de Regresión Logística y resolver dudas generales sobre tu proyecto. Realiza los siguientes pasos:\n",
        "\n",
        "1. Si hay un problema de clasificación binaria en tu proyecto, ¡genial! Aplica lo aprendido en esta sesión y entrena un modelo de Regresión Logística con tu dataset.\n",
        "2. Si no hay un problema de clasificación binaria en tu proyecto, pídele ayuda a la experta para conseguir un dataset con el que puedas practicar.\n",
        "3. Evalúa tu modelo de Regresión Logística utilizando matriz de confusión; medidas de precisión, exactitud, sensibilidad y especificidad; y curva ROC / AUC.\n",
        "> Ojo: si tu proyecto tiene un problema de clasificación multiclase (es decir, la variable dependiente no es binaria sino que contiene más de 2 categorías posibles), pídele ayuda a la experta para aplicar el algoritmo de Regresión Logística Multiclase.\n",
        "\n"
      ]
    }
  ]
}