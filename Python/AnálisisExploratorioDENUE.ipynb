{
  "nbformat": 4,
  "nbformat_minor": 0,
  "metadata": {
    "colab": {
      "name": "AnálisisExploratorioDENUE.ipynb",
      "provenance": [],
      "include_colab_link": true
    },
    "kernelspec": {
      "display_name": "Python 3",
      "language": "python",
      "name": "python3"
    },
    "language_info": {
      "codemirror_mode": {
        "name": "ipython",
        "version": 3
      },
      "file_extension": ".py",
      "mimetype": "text/x-python",
      "name": "python",
      "nbconvert_exporter": "python",
      "pygments_lexer": "ipython3",
      "version": "3.7.4"
    }
  },
  "cells": [
    {
      "cell_type": "markdown",
      "metadata": {
        "id": "view-in-github",
        "colab_type": "text"
      },
      "source": [
        "<a href=\"https://colab.research.google.com/github/Walt9819/factores-impacto-desempleo-mexico/blob/main/Python/An%C3%A1lisisExploratorioDENUE.ipynb\" target=\"_parent\"><img src=\"https://colab.research.google.com/assets/colab-badge.svg\" alt=\"Open In Colab\"/></a>"
      ]
    },
    {
      "cell_type": "markdown",
      "metadata": {
        "id": "-cJoYk0t9Ojq"
      },
      "source": [
        "**DENUE Y NOTAS PERIODISTICAS LA JORNADA**\n",
        "\n",
        "Análisis exploratorio del conjunto de datos\n",
        "\n",
        "https://www.inegi.org.mx/app/mapa/denue/default.aspx\n"
      ]
    },
    {
      "cell_type": "code",
      "metadata": {
        "id": "gc4mLebl-12_"
      },
      "source": [
        "import pandas as pd\r\n",
        "import locale\r\n",
        "from datetime import datetime\r\n",
        "import plotly.express as px\r\n",
        "import re\r\n",
        "import string\r\n",
        "from sklearn.feature_extraction.text import CountVectorizer\r\n",
        "import numpy as np"
      ],
      "execution_count": 4,
      "outputs": []
    },
    {
      "cell_type": "markdown",
      "metadata": {
        "id": "nEVfSQA49Ojx"
      },
      "source": [
        "### Lectura de archivos"
      ]
    },
    {
      "cell_type": "code",
      "metadata": {
        "id": "oZ_P5V9p_Esq",
        "outputId": "92ad397e-c613-4651-bc85-27412880e58d",
        "colab": {
          "base_uri": "https://localhost:8080/",
          "height": 359
        }
      },
      "source": [
        "data = pd.read_csv('https://raw.githubusercontent.com/Walt9819/factores-impacto-desempleo-mexico/main/Python/newsscrapper/jornada_restaurantes.csv')\r\n",
        "data.head(10)"
      ],
      "execution_count": 2,
      "outputs": [
        {
          "output_type": "execute_result",
          "data": {
            "text/html": [
              "<div>\n",
              "<style scoped>\n",
              "    .dataframe tbody tr th:only-of-type {\n",
              "        vertical-align: middle;\n",
              "    }\n",
              "\n",
              "    .dataframe tbody tr th {\n",
              "        vertical-align: top;\n",
              "    }\n",
              "\n",
              "    .dataframe thead th {\n",
              "        text-align: right;\n",
              "    }\n",
              "</style>\n",
              "<table border=\"1\" class=\"dataframe\">\n",
              "  <thead>\n",
              "    <tr style=\"text-align: right;\">\n",
              "      <th></th>\n",
              "      <th>author</th>\n",
              "      <th>body</th>\n",
              "      <th>date</th>\n",
              "      <th>keyWords</th>\n",
              "      <th>link</th>\n",
              "      <th>location</th>\n",
              "      <th>source</th>\n",
              "      <th>title</th>\n",
              "    </tr>\n",
              "  </thead>\n",
              "  <tbody>\n",
              "    <tr>\n",
              "      <th>0</th>\n",
              "      <td>Redacción</td>\n",
              "      <td>México, como muchos países está volviendo a re...</td>\n",
              "      <td>martes, 29 dic 2020 09:00</td>\n",
              "      <td>'restaurantes,covid'</td>\n",
              "      <td>https://www.jornada.com.mx/ultimas/economia/20...</td>\n",
              "      <td>NaN</td>\n",
              "      <td>LaJornada.com</td>\n",
              "      <td>2020: Un año donde la diferencia la hicimos to...</td>\n",
              "    </tr>\n",
              "    <tr>\n",
              "      <th>1</th>\n",
              "      <td>Héctor Briseño, Corresponsal</td>\n",
              "      <td>Acapulco, Gro., Los principales destinos turís...</td>\n",
              "      <td>lunes, 04 ene 2021 07:51</td>\n",
              "      <td>'restaurantes,covid'</td>\n",
              "      <td>https://www.jornada.com.mx/ultimas/estados/202...</td>\n",
              "      <td>NaN</td>\n",
              "      <td>LaJornada.com</td>\n",
              "      <td>Cayó $3 mil millones la derrama turística dece...</td>\n",
              "    </tr>\n",
              "    <tr>\n",
              "      <th>2</th>\n",
              "      <td>Afp</td>\n",
              "      <td>Londres. La totalidad de los 56 millones de ha...</td>\n",
              "      <td>jueves, 26 nov 2020 14:40</td>\n",
              "      <td>'restaurantes,covid'</td>\n",
              "      <td>https://www.jornada.com.mx/ultimas/mundo/2020/...</td>\n",
              "      <td>Londres</td>\n",
              "      <td>LaJornada.com</td>\n",
              "      <td>Inglaterra mantendrá importantes restricciones...</td>\n",
              "    </tr>\n",
              "    <tr>\n",
              "      <th>3</th>\n",
              "      <td>Afp, Ap y Sputnik</td>\n",
              "      <td>Los Ángeles. En su lucha por controlar cifras ...</td>\n",
              "      <td>jueves, 26 nov 2020 08:01</td>\n",
              "      <td>'restaurantes,covid'</td>\n",
              "      <td>https://www.jornada.com.mx/ultimas/mundo/2020/...</td>\n",
              "      <td>NaN</td>\n",
              "      <td>LaJornada.com</td>\n",
              "      <td>Millón y medio de infectados en América en una...</td>\n",
              "    </tr>\n",
              "    <tr>\n",
              "      <th>4</th>\n",
              "      <td>Rocío González Alvarado</td>\n",
              "      <td>Sábado 28 de noviembre de 2020. Una de las apu...</td>\n",
              "      <td>sábado, 28 nov 2020 08:24</td>\n",
              "      <td>'restaurantes,covid'</td>\n",
              "      <td>https://www.jornada.com.mx/ultimas/capital/202...</td>\n",
              "      <td>NaN</td>\n",
              "      <td>LaJornada.com</td>\n",
              "      <td>\"Alerta al límite del rojo\" en la CDMX: Shein...</td>\n",
              "    </tr>\n",
              "    <tr>\n",
              "      <th>5</th>\n",
              "      <td>Afp</td>\n",
              "      <td>Londres. Más de 60 personas fueron detenidas e...</td>\n",
              "      <td>sábado, 28 nov 2020 15:33</td>\n",
              "      <td>'restaurantes,covid'</td>\n",
              "      <td>https://www.jornada.com.mx/ultimas/mundo/2020/...</td>\n",
              "      <td>Londres.</td>\n",
              "      <td>LaJornada.com</td>\n",
              "      <td>Cientos protestan contra las restricciones Cov...</td>\n",
              "    </tr>\n",
              "    <tr>\n",
              "      <th>6</th>\n",
              "      <td>Josefina Quintero M.</td>\n",
              "      <td>Ciudad de México. La alerta al límite para pas...</td>\n",
              "      <td>domingo, 29 nov 2020 08:16</td>\n",
              "      <td>'restaurantes,covid'</td>\n",
              "      <td>https://www.jornada.com.mx/ultimas/capital/202...</td>\n",
              "      <td>Ciudad de México.</td>\n",
              "      <td>LaJornada.com</td>\n",
              "      <td>Nada frena las aglomeraciones en la CDMX</td>\n",
              "    </tr>\n",
              "    <tr>\n",
              "      <th>7</th>\n",
              "      <td>Alejandro Cruz Flores</td>\n",
              "      <td>Ciudad de México. El Gobierno de la Ciudad de ...</td>\n",
              "      <td>lunes, 30 nov 2020 07:20</td>\n",
              "      <td>'restaurantes,covid'</td>\n",
              "      <td>https://www.jornada.com.mx/ultimas/capital/202...</td>\n",
              "      <td>NaN</td>\n",
              "      <td>LaJornada.com</td>\n",
              "      <td>Sheinbaum refuerza las medidas contra aglomera...</td>\n",
              "    </tr>\n",
              "    <tr>\n",
              "      <th>8</th>\n",
              "      <td>Afp</td>\n",
              "      <td>París. Europa, segunda región del mundo más en...</td>\n",
              "      <td>sábado, 28 nov 2020 15:11</td>\n",
              "      <td>'restaurantes,covid'</td>\n",
              "      <td>https://www.jornada.com.mx/ultimas/mundo/2020/...</td>\n",
              "      <td>NaN</td>\n",
              "      <td>LaJornada.com</td>\n",
              "      <td>Supera Europa 400 mil muertos por Covid-19</td>\n",
              "    </tr>\n",
              "    <tr>\n",
              "      <th>9</th>\n",
              "      <td>Reuters</td>\n",
              "      <td>Tokio. Tokio elevó el jueves al nivel máximo s...</td>\n",
              "      <td>jueves, 19 nov 2020 14:15</td>\n",
              "      <td>'restaurantes,covid'</td>\n",
              "      <td>https://www.jornada.com.mx/ultimas/mundo/2020/...</td>\n",
              "      <td>Tokio.</td>\n",
              "      <td>LaJornada.com</td>\n",
              "      <td>Eleva Tokio a nivel máximo su alerta sanitaria...</td>\n",
              "    </tr>\n",
              "  </tbody>\n",
              "</table>\n",
              "</div>"
            ],
            "text/plain": [
              "                         author  ...                                              title\n",
              "0                     Redacción  ...  2020: Un año donde la diferencia la hicimos to...\n",
              "1  Héctor Briseño, Corresponsal  ...  Cayó $3 mil millones la derrama turística dece...\n",
              "2                           Afp  ...  Inglaterra mantendrá importantes restricciones...\n",
              "3             Afp, Ap y Sputnik  ...  Millón y medio de infectados en América en una...\n",
              "4       Rocío González Alvarado  ...   \"Alerta al límite del rojo\" en la CDMX: Shein...\n",
              "5                           Afp  ...  Cientos protestan contra las restricciones Cov...\n",
              "6          Josefina Quintero M.  ...           Nada frena las aglomeraciones en la CDMX\n",
              "7         Alejandro Cruz Flores  ...  Sheinbaum refuerza las medidas contra aglomera...\n",
              "8                           Afp  ...         Supera Europa 400 mil muertos por Covid-19\n",
              "9                       Reuters  ...  Eleva Tokio a nivel máximo su alerta sanitaria...\n",
              "\n",
              "[10 rows x 8 columns]"
            ]
          },
          "metadata": {
            "tags": []
          },
          "execution_count": 2
        }
      ]
    },
    {
      "cell_type": "markdown",
      "metadata": {
        "id": "lwLYmSZR-Rh3"
      },
      "source": [
        "### Filtrado por entidades"
      ]
    },
    {
      "cell_type": "code",
      "metadata": {
        "id": "J_izmPwN-Rh3"
      },
      "source": [
        ""
      ],
      "execution_count": null,
      "outputs": []
    }
  ]
}