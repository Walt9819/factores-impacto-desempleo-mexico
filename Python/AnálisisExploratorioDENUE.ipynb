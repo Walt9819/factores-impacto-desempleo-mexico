{
  "nbformat": 4,
  "nbformat_minor": 0,
  "metadata": {
    "colab": {
      "name": "AnálisisExploratorioDENUE.ipynb",
      "provenance": [],
      "include_colab_link": true
    },
    "kernelspec": {
      "display_name": "Python 3",
      "language": "python",
      "name": "python3"
    },
    "language_info": {
      "codemirror_mode": {
        "name": "ipython",
        "version": 3
      },
      "file_extension": ".py",
      "mimetype": "text/x-python",
      "name": "python",
      "nbconvert_exporter": "python",
      "pygments_lexer": "ipython3",
      "version": "3.7.4"
    }
  },
  "cells": [
    {
      "cell_type": "markdown",
      "metadata": {
        "id": "view-in-github",
        "colab_type": "text"
      },
      "source": [
        "<a href=\"https://colab.research.google.com/github/Walt9819/factores-impacto-desempleo-mexico/blob/main/Python/An%C3%A1lisisExploratorioDENUE.ipynb\" target=\"_parent\"><img src=\"https://colab.research.google.com/assets/colab-badge.svg\" alt=\"Open In Colab\"/></a>"
      ]
    },
    {
      "cell_type": "markdown",
      "metadata": {
        "id": "-cJoYk0t9Ojq"
      },
      "source": [
        "**DENUE Y NOTAS PERIODISTICAS LA JORNADA**\n",
        "\n",
        "Análisis exploratorio del conjunto de datos\n",
        "\n",
        "https://www.inegi.org.mx/app/mapa/denue/default.aspx\n"
      ]
    },
    {
      "cell_type": "code",
      "metadata": {
        "id": "gc4mLebl-12_"
      },
      "source": [
        "import pandas as pd\r\n",
        "import locale\r\n",
        "from datetime import datetime\r\n",
        "import plotly.express as px\r\n",
        "import re\r\n",
        "import string\r\n",
        "from sklearn.feature_extraction.text import CountVectorizer\r\n",
        "import numpy as np\r\n",
        "import dateutil"
      ],
      "execution_count": 8,
      "outputs": []
    },
    {
      "cell_type": "markdown",
      "metadata": {
        "id": "nEVfSQA49Ojx"
      },
      "source": [
        "### Lectura de archivos"
      ]
    },
    {
      "cell_type": "code",
      "metadata": {
        "colab": {
          "base_uri": "https://localhost:8080/",
          "height": 359
        },
        "id": "oZ_P5V9p_Esq",
        "outputId": "c893ca46-b6a4-4505-ca7c-7c10386612cd"
      },
      "source": [
        "data = pd.read_csv('https://raw.githubusercontent.com/Walt9819/factores-impacto-desempleo-mexico/main/Python/newsscrapper/jornada_restaurantes.csv')\r\n",
        "data.head(10)"
      ],
      "execution_count": 10,
      "outputs": [
        {
          "output_type": "execute_result",
          "data": {
            "text/html": [
              "<div>\n",
              "<style scoped>\n",
              "    .dataframe tbody tr th:only-of-type {\n",
              "        vertical-align: middle;\n",
              "    }\n",
              "\n",
              "    .dataframe tbody tr th {\n",
              "        vertical-align: top;\n",
              "    }\n",
              "\n",
              "    .dataframe thead th {\n",
              "        text-align: right;\n",
              "    }\n",
              "</style>\n",
              "<table border=\"1\" class=\"dataframe\">\n",
              "  <thead>\n",
              "    <tr style=\"text-align: right;\">\n",
              "      <th></th>\n",
              "      <th>author</th>\n",
              "      <th>body</th>\n",
              "      <th>date</th>\n",
              "      <th>keyWords</th>\n",
              "      <th>link</th>\n",
              "      <th>location</th>\n",
              "      <th>source</th>\n",
              "      <th>title</th>\n",
              "    </tr>\n",
              "  </thead>\n",
              "  <tbody>\n",
              "    <tr>\n",
              "      <th>0</th>\n",
              "      <td>Redacción</td>\n",
              "      <td>México, como muchos países está volviendo a re...</td>\n",
              "      <td>martes, 29 dic 2020 09:00</td>\n",
              "      <td>'restaurantes,covid'</td>\n",
              "      <td>https://www.jornada.com.mx/ultimas/economia/20...</td>\n",
              "      <td>NaN</td>\n",
              "      <td>LaJornada.com</td>\n",
              "      <td>2020: Un año donde la diferencia la hicimos to...</td>\n",
              "    </tr>\n",
              "    <tr>\n",
              "      <th>1</th>\n",
              "      <td>Héctor Briseño, Corresponsal</td>\n",
              "      <td>Acapulco, Gro., Los principales destinos turís...</td>\n",
              "      <td>lunes, 04 ene 2021 07:51</td>\n",
              "      <td>'restaurantes,covid'</td>\n",
              "      <td>https://www.jornada.com.mx/ultimas/estados/202...</td>\n",
              "      <td>NaN</td>\n",
              "      <td>LaJornada.com</td>\n",
              "      <td>Cayó $3 mil millones la derrama turística dece...</td>\n",
              "    </tr>\n",
              "    <tr>\n",
              "      <th>2</th>\n",
              "      <td>Afp</td>\n",
              "      <td>Londres. La totalidad de los 56 millones de ha...</td>\n",
              "      <td>jueves, 26 nov 2020 14:40</td>\n",
              "      <td>'restaurantes,covid'</td>\n",
              "      <td>https://www.jornada.com.mx/ultimas/mundo/2020/...</td>\n",
              "      <td>Londres</td>\n",
              "      <td>LaJornada.com</td>\n",
              "      <td>Inglaterra mantendrá importantes restricciones...</td>\n",
              "    </tr>\n",
              "    <tr>\n",
              "      <th>3</th>\n",
              "      <td>Afp, Ap y Sputnik</td>\n",
              "      <td>Los Ángeles. En su lucha por controlar cifras ...</td>\n",
              "      <td>jueves, 26 nov 2020 08:01</td>\n",
              "      <td>'restaurantes,covid'</td>\n",
              "      <td>https://www.jornada.com.mx/ultimas/mundo/2020/...</td>\n",
              "      <td>NaN</td>\n",
              "      <td>LaJornada.com</td>\n",
              "      <td>Millón y medio de infectados en América en una...</td>\n",
              "    </tr>\n",
              "    <tr>\n",
              "      <th>4</th>\n",
              "      <td>Rocío González Alvarado</td>\n",
              "      <td>Sábado 28 de noviembre de 2020. Una de las apu...</td>\n",
              "      <td>sábado, 28 nov 2020 08:24</td>\n",
              "      <td>'restaurantes,covid'</td>\n",
              "      <td>https://www.jornada.com.mx/ultimas/capital/202...</td>\n",
              "      <td>NaN</td>\n",
              "      <td>LaJornada.com</td>\n",
              "      <td>\"Alerta al límite del rojo\" en la CDMX: Shein...</td>\n",
              "    </tr>\n",
              "    <tr>\n",
              "      <th>5</th>\n",
              "      <td>Afp</td>\n",
              "      <td>Londres. Más de 60 personas fueron detenidas e...</td>\n",
              "      <td>sábado, 28 nov 2020 15:33</td>\n",
              "      <td>'restaurantes,covid'</td>\n",
              "      <td>https://www.jornada.com.mx/ultimas/mundo/2020/...</td>\n",
              "      <td>Londres.</td>\n",
              "      <td>LaJornada.com</td>\n",
              "      <td>Cientos protestan contra las restricciones Cov...</td>\n",
              "    </tr>\n",
              "    <tr>\n",
              "      <th>6</th>\n",
              "      <td>Josefina Quintero M.</td>\n",
              "      <td>Ciudad de México. La alerta al límite para pas...</td>\n",
              "      <td>domingo, 29 nov 2020 08:16</td>\n",
              "      <td>'restaurantes,covid'</td>\n",
              "      <td>https://www.jornada.com.mx/ultimas/capital/202...</td>\n",
              "      <td>Ciudad de México.</td>\n",
              "      <td>LaJornada.com</td>\n",
              "      <td>Nada frena las aglomeraciones en la CDMX</td>\n",
              "    </tr>\n",
              "    <tr>\n",
              "      <th>7</th>\n",
              "      <td>Alejandro Cruz Flores</td>\n",
              "      <td>Ciudad de México. El Gobierno de la Ciudad de ...</td>\n",
              "      <td>lunes, 30 nov 2020 07:20</td>\n",
              "      <td>'restaurantes,covid'</td>\n",
              "      <td>https://www.jornada.com.mx/ultimas/capital/202...</td>\n",
              "      <td>NaN</td>\n",
              "      <td>LaJornada.com</td>\n",
              "      <td>Sheinbaum refuerza las medidas contra aglomera...</td>\n",
              "    </tr>\n",
              "    <tr>\n",
              "      <th>8</th>\n",
              "      <td>Afp</td>\n",
              "      <td>París. Europa, segunda región del mundo más en...</td>\n",
              "      <td>sábado, 28 nov 2020 15:11</td>\n",
              "      <td>'restaurantes,covid'</td>\n",
              "      <td>https://www.jornada.com.mx/ultimas/mundo/2020/...</td>\n",
              "      <td>NaN</td>\n",
              "      <td>LaJornada.com</td>\n",
              "      <td>Supera Europa 400 mil muertos por Covid-19</td>\n",
              "    </tr>\n",
              "    <tr>\n",
              "      <th>9</th>\n",
              "      <td>Reuters</td>\n",
              "      <td>Tokio. Tokio elevó el jueves al nivel máximo s...</td>\n",
              "      <td>jueves, 19 nov 2020 14:15</td>\n",
              "      <td>'restaurantes,covid'</td>\n",
              "      <td>https://www.jornada.com.mx/ultimas/mundo/2020/...</td>\n",
              "      <td>Tokio.</td>\n",
              "      <td>LaJornada.com</td>\n",
              "      <td>Eleva Tokio a nivel máximo su alerta sanitaria...</td>\n",
              "    </tr>\n",
              "  </tbody>\n",
              "</table>\n",
              "</div>"
            ],
            "text/plain": [
              "                         author  ...                                              title\n",
              "0                     Redacción  ...  2020: Un año donde la diferencia la hicimos to...\n",
              "1  Héctor Briseño, Corresponsal  ...  Cayó $3 mil millones la derrama turística dece...\n",
              "2                           Afp  ...  Inglaterra mantendrá importantes restricciones...\n",
              "3             Afp, Ap y Sputnik  ...  Millón y medio de infectados en América en una...\n",
              "4       Rocío González Alvarado  ...   \"Alerta al límite del rojo\" en la CDMX: Shein...\n",
              "5                           Afp  ...  Cientos protestan contra las restricciones Cov...\n",
              "6          Josefina Quintero M.  ...           Nada frena las aglomeraciones en la CDMX\n",
              "7         Alejandro Cruz Flores  ...  Sheinbaum refuerza las medidas contra aglomera...\n",
              "8                           Afp  ...         Supera Europa 400 mil muertos por Covid-19\n",
              "9                       Reuters  ...  Eleva Tokio a nivel máximo su alerta sanitaria...\n",
              "\n",
              "[10 rows x 8 columns]"
            ]
          },
          "metadata": {
            "tags": []
          },
          "execution_count": 10
        }
      ]
    },
    {
      "cell_type": "code",
      "metadata": {
        "id": "eRMhzBCNB2Gk"
      },
      "source": [
        "data['date'] = data['date'].str.replace(r'ago', 'aug')\r\n",
        "data['date'] = data['date'].str.replace(r'abr', 'apr')\r\n",
        "data['date'] = data['date'].str.replace(r'ene', 'jan')\r\n",
        "data['date'] = data['date'].str.replace(r'dic', 'dec')\r\n",
        "data['date'] = [dateutil.parser.parse(x, fuzzy_with_tokens=True)[0] for x in data['date']]\r\n",
        "data['year'] = pd.DatetimeIndex(data['date']).year\r\n",
        "data['month'] = pd.DatetimeIndex(data['date']).month"
      ],
      "execution_count": 11,
      "outputs": []
    },
    {
      "cell_type": "code",
      "metadata": {
        "id": "DPtDE29nCo1k",
        "outputId": "cbf21ee8-bbe2-4037-afae-9b11b0eb652d",
        "colab": {
          "base_uri": "https://localhost:8080/",
          "height": 589
        }
      },
      "source": [
        "data"
      ],
      "execution_count": 18,
      "outputs": [
        {
          "output_type": "execute_result",
          "data": {
            "text/html": [
              "<div>\n",
              "<style scoped>\n",
              "    .dataframe tbody tr th:only-of-type {\n",
              "        vertical-align: middle;\n",
              "    }\n",
              "\n",
              "    .dataframe tbody tr th {\n",
              "        vertical-align: top;\n",
              "    }\n",
              "\n",
              "    .dataframe thead th {\n",
              "        text-align: right;\n",
              "    }\n",
              "</style>\n",
              "<table border=\"1\" class=\"dataframe\">\n",
              "  <thead>\n",
              "    <tr style=\"text-align: right;\">\n",
              "      <th></th>\n",
              "      <th>author</th>\n",
              "      <th>body</th>\n",
              "      <th>date</th>\n",
              "      <th>keyWords</th>\n",
              "      <th>link</th>\n",
              "      <th>location</th>\n",
              "      <th>source</th>\n",
              "      <th>title</th>\n",
              "      <th>year</th>\n",
              "      <th>month</th>\n",
              "    </tr>\n",
              "  </thead>\n",
              "  <tbody>\n",
              "    <tr>\n",
              "      <th>0</th>\n",
              "      <td>Redacción</td>\n",
              "      <td>México, como muchos países está volviendo a re...</td>\n",
              "      <td>2020-12-29 09:00:00</td>\n",
              "      <td>'restaurantes,covid'</td>\n",
              "      <td>https://www.jornada.com.mx/ultimas/economia/20...</td>\n",
              "      <td>NaN</td>\n",
              "      <td>LaJornada.com</td>\n",
              "      <td>2020: Un año donde la diferencia la hicimos to...</td>\n",
              "      <td>2020</td>\n",
              "      <td>12</td>\n",
              "    </tr>\n",
              "    <tr>\n",
              "      <th>1</th>\n",
              "      <td>Héctor Briseño, Corresponsal</td>\n",
              "      <td>Acapulco, Gro., Los principales destinos turís...</td>\n",
              "      <td>2021-01-04 07:51:00</td>\n",
              "      <td>'restaurantes,covid'</td>\n",
              "      <td>https://www.jornada.com.mx/ultimas/estados/202...</td>\n",
              "      <td>NaN</td>\n",
              "      <td>LaJornada.com</td>\n",
              "      <td>Cayó $3 mil millones la derrama turística dece...</td>\n",
              "      <td>2021</td>\n",
              "      <td>1</td>\n",
              "    </tr>\n",
              "    <tr>\n",
              "      <th>2</th>\n",
              "      <td>Afp</td>\n",
              "      <td>Londres. La totalidad de los 56 millones de ha...</td>\n",
              "      <td>2020-11-26 14:40:00</td>\n",
              "      <td>'restaurantes,covid'</td>\n",
              "      <td>https://www.jornada.com.mx/ultimas/mundo/2020/...</td>\n",
              "      <td>Londres</td>\n",
              "      <td>LaJornada.com</td>\n",
              "      <td>Inglaterra mantendrá importantes restricciones...</td>\n",
              "      <td>2020</td>\n",
              "      <td>11</td>\n",
              "    </tr>\n",
              "    <tr>\n",
              "      <th>3</th>\n",
              "      <td>Afp, Ap y Sputnik</td>\n",
              "      <td>Los Ángeles. En su lucha por controlar cifras ...</td>\n",
              "      <td>2020-11-26 08:01:00</td>\n",
              "      <td>'restaurantes,covid'</td>\n",
              "      <td>https://www.jornada.com.mx/ultimas/mundo/2020/...</td>\n",
              "      <td>NaN</td>\n",
              "      <td>LaJornada.com</td>\n",
              "      <td>Millón y medio de infectados en América en una...</td>\n",
              "      <td>2020</td>\n",
              "      <td>11</td>\n",
              "    </tr>\n",
              "    <tr>\n",
              "      <th>4</th>\n",
              "      <td>Rocío González Alvarado</td>\n",
              "      <td>Sábado 28 de noviembre de 2020. Una de las apu...</td>\n",
              "      <td>2020-11-28 08:24:00</td>\n",
              "      <td>'restaurantes,covid'</td>\n",
              "      <td>https://www.jornada.com.mx/ultimas/capital/202...</td>\n",
              "      <td>NaN</td>\n",
              "      <td>LaJornada.com</td>\n",
              "      <td>\"Alerta al límite del rojo\" en la CDMX: Shein...</td>\n",
              "      <td>2020</td>\n",
              "      <td>11</td>\n",
              "    </tr>\n",
              "    <tr>\n",
              "      <th>...</th>\n",
              "      <td>...</td>\n",
              "      <td>...</td>\n",
              "      <td>...</td>\n",
              "      <td>...</td>\n",
              "      <td>...</td>\n",
              "      <td>...</td>\n",
              "      <td>...</td>\n",
              "      <td>...</td>\n",
              "      <td>...</td>\n",
              "      <td>...</td>\n",
              "    </tr>\n",
              "    <tr>\n",
              "      <th>639</th>\n",
              "      <td>Néstor Jiménez y Alonso Urrutia</td>\n",
              "      <td>Ciudad de México. México es autosuficientes en...</td>\n",
              "      <td>2020-03-31 09:13:00</td>\n",
              "      <td>'restaurantes,covid'</td>\n",
              "      <td>https://www.jornada.com.mx/ultimas/economia/20...</td>\n",
              "      <td>NaN</td>\n",
              "      <td>LaJornada.com</td>\n",
              "      <td>Multas de hasta 3 mdp por alzas irregulares en...</td>\n",
              "      <td>2020</td>\n",
              "      <td>3</td>\n",
              "    </tr>\n",
              "    <tr>\n",
              "      <th>640</th>\n",
              "      <td>Carlos Águila Arreola/ La Jornada Maya</td>\n",
              "      <td>Cancún. Los cines, bares, discotecas, casinos ...</td>\n",
              "      <td>2020-03-18 20:03:00</td>\n",
              "      <td>'restaurantes,covid'</td>\n",
              "      <td>https://www.jornada.com.mx/ultimas/estados/202...</td>\n",
              "      <td>Cancún</td>\n",
              "      <td>LaJornada.com</td>\n",
              "      <td>Cancún cerrará todo giro comercial para evitar...</td>\n",
              "      <td>2020</td>\n",
              "      <td>3</td>\n",
              "    </tr>\n",
              "    <tr>\n",
              "      <th>641</th>\n",
              "      <td>Lilián Anaya @Lilian_Anaya</td>\n",
              "      <td>Ciudad de México. Uber Eats informó que une es...</td>\n",
              "      <td>2020-03-23 16:00:00</td>\n",
              "      <td>'restaurantes,covid'</td>\n",
              "      <td>https://www.jornada.com.mx/ultimas/tiempo-de-i...</td>\n",
              "      <td>Ciudad de México</td>\n",
              "      <td>LaJornada.com</td>\n",
              "      <td>Uber Eats apoya a restaurantes, repartidores y...</td>\n",
              "      <td>2020</td>\n",
              "      <td>3</td>\n",
              "    </tr>\n",
              "    <tr>\n",
              "      <th>642</th>\n",
              "      <td>Ap</td>\n",
              "      <td>La Habana. Un millar de cruceristas y la tripu...</td>\n",
              "      <td>2020-03-18 15:40:00</td>\n",
              "      <td>'restaurantes,covid'</td>\n",
              "      <td>https://www.jornada.com.mx/ultimas/mundo/2020/...</td>\n",
              "      <td>La Habana.</td>\n",
              "      <td>LaJornada.com</td>\n",
              "      <td>Desembarcan en Cuba pasajeros de crucero recha...</td>\n",
              "      <td>2020</td>\n",
              "      <td>3</td>\n",
              "    </tr>\n",
              "    <tr>\n",
              "      <th>643</th>\n",
              "      <td>Israel Dávila, corresponsal</td>\n",
              "      <td>Toluca. El gobernador del Estado de México, Al...</td>\n",
              "      <td>2020-03-23 16:29:00</td>\n",
              "      <td>'restaurantes,covid'</td>\n",
              "      <td>https://www.jornada.com.mx/ultimas/estados/202...</td>\n",
              "      <td>NaN</td>\n",
              "      <td>LaJornada.com</td>\n",
              "      <td>También en el Edomex cierran establecimientos ...</td>\n",
              "      <td>2020</td>\n",
              "      <td>3</td>\n",
              "    </tr>\n",
              "  </tbody>\n",
              "</table>\n",
              "<p>644 rows × 10 columns</p>\n",
              "</div>"
            ],
            "text/plain": [
              "                                     author  ... month\n",
              "0                                 Redacción  ...    12\n",
              "1              Héctor Briseño, Corresponsal  ...     1\n",
              "2                                       Afp  ...    11\n",
              "3                         Afp, Ap y Sputnik  ...    11\n",
              "4                   Rocío González Alvarado  ...    11\n",
              "..                                      ...  ...   ...\n",
              "639         Néstor Jiménez y Alonso Urrutia  ...     3\n",
              "640  Carlos Águila Arreola/ La Jornada Maya  ...     3\n",
              "641              Lilián Anaya @Lilian_Anaya  ...     3\n",
              "642                                      Ap  ...     3\n",
              "643             Israel Dávila, corresponsal  ...     3\n",
              "\n",
              "[644 rows x 10 columns]"
            ]
          },
          "metadata": {
            "tags": []
          },
          "execution_count": 18
        }
      ]
    },
    {
      "cell_type": "code",
      "metadata": {
        "id": "GF6tKp-AEFln",
        "outputId": "a666f1b8-b624-4d44-9089-723c939d611f",
        "colab": {
          "base_uri": "https://localhost:8080/",
          "height": 111
        }
      },
      "source": [
        "count_year = data.groupby('year').count()[['link']].reset_index().rename(columns={'link': 'count'})\r\n",
        "count_year"
      ],
      "execution_count": 20,
      "outputs": [
        {
          "output_type": "execute_result",
          "data": {
            "text/html": [
              "<div>\n",
              "<style scoped>\n",
              "    .dataframe tbody tr th:only-of-type {\n",
              "        vertical-align: middle;\n",
              "    }\n",
              "\n",
              "    .dataframe tbody tr th {\n",
              "        vertical-align: top;\n",
              "    }\n",
              "\n",
              "    .dataframe thead th {\n",
              "        text-align: right;\n",
              "    }\n",
              "</style>\n",
              "<table border=\"1\" class=\"dataframe\">\n",
              "  <thead>\n",
              "    <tr style=\"text-align: right;\">\n",
              "      <th></th>\n",
              "      <th>year</th>\n",
              "      <th>count</th>\n",
              "    </tr>\n",
              "  </thead>\n",
              "  <tbody>\n",
              "    <tr>\n",
              "      <th>0</th>\n",
              "      <td>2020</td>\n",
              "      <td>643</td>\n",
              "    </tr>\n",
              "    <tr>\n",
              "      <th>1</th>\n",
              "      <td>2021</td>\n",
              "      <td>1</td>\n",
              "    </tr>\n",
              "  </tbody>\n",
              "</table>\n",
              "</div>"
            ],
            "text/plain": [
              "   year  count\n",
              "0  2020    643\n",
              "1  2021      1"
            ]
          },
          "metadata": {
            "tags": []
          },
          "execution_count": 20
        }
      ]
    },
    {
      "cell_type": "code",
      "metadata": {
        "id": "6Uyft8EbCv7A",
        "outputId": "8b25917a-c8de-43cc-8c05-ce32a3c84061",
        "colab": {
          "base_uri": "https://localhost:8080/"
        }
      },
      "source": [
        "count_month = data.groupby('month').count()[['link']].reset_index().rename(columns={'link': 'count'})\r\n",
        "count_month.columns"
      ],
      "execution_count": 16,
      "outputs": [
        {
          "output_type": "execute_result",
          "data": {
            "text/plain": [
              "Index(['month', 'count'], dtype='object')"
            ]
          },
          "metadata": {
            "tags": []
          },
          "execution_count": 16
        }
      ]
    },
    {
      "cell_type": "code",
      "metadata": {
        "id": "epQkSXfkDCtI",
        "outputId": "83797f8a-256a-4d3e-a5ac-ff331dbb7843",
        "colab": {
          "base_uri": "https://localhost:8080/",
          "height": 542
        }
      },
      "source": [
        "fig = px.bar(count_month, x=\"month\", y=\"count\")\r\n",
        "fig.show()"
      ],
      "execution_count": 17,
      "outputs": [
        {
          "output_type": "display_data",
          "data": {
            "text/html": [
              "<html>\n",
              "<head><meta charset=\"utf-8\" /></head>\n",
              "<body>\n",
              "    <div>\n",
              "            <script src=\"https://cdnjs.cloudflare.com/ajax/libs/mathjax/2.7.5/MathJax.js?config=TeX-AMS-MML_SVG\"></script><script type=\"text/javascript\">if (window.MathJax) {MathJax.Hub.Config({SVG: {font: \"STIX-Web\"}});}</script>\n",
              "                <script type=\"text/javascript\">window.PlotlyConfig = {MathJaxConfig: 'local'};</script>\n",
              "        <script src=\"https://cdn.plot.ly/plotly-latest.min.js\"></script>    \n",
              "            <div id=\"85d5e5a5-112f-4d15-baf8-cabb621362d1\" class=\"plotly-graph-div\" style=\"height:525px; width:100%;\"></div>\n",
              "            <script type=\"text/javascript\">\n",
              "                \n",
              "                    window.PLOTLYENV=window.PLOTLYENV || {};\n",
              "                    \n",
              "                if (document.getElementById(\"85d5e5a5-112f-4d15-baf8-cabb621362d1\")) {\n",
              "                    Plotly.newPlot(\n",
              "                        '85d5e5a5-112f-4d15-baf8-cabb621362d1',\n",
              "                        [{\"alignmentgroup\": \"True\", \"hoverlabel\": {\"namelength\": 0}, \"hovertemplate\": \"month=%{x}<br>count=%{y}\", \"legendgroup\": \"\", \"marker\": {\"color\": \"#636efa\"}, \"name\": \"\", \"offsetgroup\": \"\", \"orientation\": \"v\", \"showlegend\": false, \"textposition\": \"auto\", \"type\": \"bar\", \"x\": [1, 2, 3, 4, 5, 6, 7, 8, 9, 10, 11, 12], \"xaxis\": \"x\", \"y\": [1, 2, 98, 62, 106, 91, 76, 31, 41, 82, 53, 1], \"yaxis\": \"y\"}],\n",
              "                        {\"barmode\": \"relative\", \"legend\": {\"tracegroupgap\": 0}, \"margin\": {\"t\": 60}, \"template\": {\"data\": {\"bar\": [{\"error_x\": {\"color\": \"#2a3f5f\"}, \"error_y\": {\"color\": \"#2a3f5f\"}, \"marker\": {\"line\": {\"color\": \"#E5ECF6\", \"width\": 0.5}}, \"type\": \"bar\"}], \"barpolar\": [{\"marker\": {\"line\": {\"color\": \"#E5ECF6\", \"width\": 0.5}}, \"type\": \"barpolar\"}], \"carpet\": [{\"aaxis\": {\"endlinecolor\": \"#2a3f5f\", \"gridcolor\": \"white\", \"linecolor\": \"white\", \"minorgridcolor\": \"white\", \"startlinecolor\": \"#2a3f5f\"}, \"baxis\": {\"endlinecolor\": \"#2a3f5f\", \"gridcolor\": \"white\", \"linecolor\": \"white\", \"minorgridcolor\": \"white\", \"startlinecolor\": \"#2a3f5f\"}, \"type\": \"carpet\"}], \"choropleth\": [{\"colorbar\": {\"outlinewidth\": 0, \"ticks\": \"\"}, \"type\": \"choropleth\"}], \"contour\": [{\"colorbar\": {\"outlinewidth\": 0, \"ticks\": \"\"}, \"colorscale\": [[0.0, \"#0d0887\"], [0.1111111111111111, \"#46039f\"], [0.2222222222222222, \"#7201a8\"], [0.3333333333333333, \"#9c179e\"], [0.4444444444444444, \"#bd3786\"], [0.5555555555555556, \"#d8576b\"], [0.6666666666666666, \"#ed7953\"], [0.7777777777777778, \"#fb9f3a\"], [0.8888888888888888, \"#fdca26\"], [1.0, \"#f0f921\"]], \"type\": \"contour\"}], \"contourcarpet\": [{\"colorbar\": {\"outlinewidth\": 0, \"ticks\": \"\"}, \"type\": \"contourcarpet\"}], \"heatmap\": [{\"colorbar\": {\"outlinewidth\": 0, \"ticks\": \"\"}, \"colorscale\": [[0.0, \"#0d0887\"], [0.1111111111111111, \"#46039f\"], [0.2222222222222222, \"#7201a8\"], [0.3333333333333333, \"#9c179e\"], [0.4444444444444444, \"#bd3786\"], [0.5555555555555556, \"#d8576b\"], [0.6666666666666666, \"#ed7953\"], [0.7777777777777778, \"#fb9f3a\"], [0.8888888888888888, \"#fdca26\"], [1.0, \"#f0f921\"]], \"type\": \"heatmap\"}], \"heatmapgl\": [{\"colorbar\": {\"outlinewidth\": 0, \"ticks\": \"\"}, \"colorscale\": [[0.0, \"#0d0887\"], [0.1111111111111111, \"#46039f\"], [0.2222222222222222, \"#7201a8\"], [0.3333333333333333, \"#9c179e\"], [0.4444444444444444, \"#bd3786\"], [0.5555555555555556, \"#d8576b\"], [0.6666666666666666, \"#ed7953\"], [0.7777777777777778, \"#fb9f3a\"], [0.8888888888888888, \"#fdca26\"], [1.0, \"#f0f921\"]], \"type\": \"heatmapgl\"}], \"histogram\": [{\"marker\": {\"colorbar\": {\"outlinewidth\": 0, \"ticks\": \"\"}}, \"type\": \"histogram\"}], \"histogram2d\": [{\"colorbar\": {\"outlinewidth\": 0, \"ticks\": \"\"}, \"colorscale\": [[0.0, \"#0d0887\"], [0.1111111111111111, \"#46039f\"], [0.2222222222222222, \"#7201a8\"], [0.3333333333333333, \"#9c179e\"], [0.4444444444444444, \"#bd3786\"], [0.5555555555555556, \"#d8576b\"], [0.6666666666666666, \"#ed7953\"], [0.7777777777777778, \"#fb9f3a\"], [0.8888888888888888, \"#fdca26\"], [1.0, \"#f0f921\"]], \"type\": \"histogram2d\"}], \"histogram2dcontour\": [{\"colorbar\": {\"outlinewidth\": 0, \"ticks\": \"\"}, \"colorscale\": [[0.0, \"#0d0887\"], [0.1111111111111111, \"#46039f\"], [0.2222222222222222, \"#7201a8\"], [0.3333333333333333, \"#9c179e\"], [0.4444444444444444, \"#bd3786\"], [0.5555555555555556, \"#d8576b\"], [0.6666666666666666, \"#ed7953\"], [0.7777777777777778, \"#fb9f3a\"], [0.8888888888888888, \"#fdca26\"], [1.0, \"#f0f921\"]], \"type\": \"histogram2dcontour\"}], \"mesh3d\": [{\"colorbar\": {\"outlinewidth\": 0, \"ticks\": \"\"}, \"type\": \"mesh3d\"}], \"parcoords\": [{\"line\": {\"colorbar\": {\"outlinewidth\": 0, \"ticks\": \"\"}}, \"type\": \"parcoords\"}], \"pie\": [{\"automargin\": true, \"type\": \"pie\"}], \"scatter\": [{\"marker\": {\"colorbar\": {\"outlinewidth\": 0, \"ticks\": \"\"}}, \"type\": \"scatter\"}], \"scatter3d\": [{\"line\": {\"colorbar\": {\"outlinewidth\": 0, \"ticks\": \"\"}}, \"marker\": {\"colorbar\": {\"outlinewidth\": 0, \"ticks\": \"\"}}, \"type\": \"scatter3d\"}], \"scattercarpet\": [{\"marker\": {\"colorbar\": {\"outlinewidth\": 0, \"ticks\": \"\"}}, \"type\": \"scattercarpet\"}], \"scattergeo\": [{\"marker\": {\"colorbar\": {\"outlinewidth\": 0, \"ticks\": \"\"}}, \"type\": \"scattergeo\"}], \"scattergl\": [{\"marker\": {\"colorbar\": {\"outlinewidth\": 0, \"ticks\": \"\"}}, \"type\": \"scattergl\"}], \"scattermapbox\": [{\"marker\": {\"colorbar\": {\"outlinewidth\": 0, \"ticks\": \"\"}}, \"type\": \"scattermapbox\"}], \"scatterpolar\": [{\"marker\": {\"colorbar\": {\"outlinewidth\": 0, \"ticks\": \"\"}}, \"type\": \"scatterpolar\"}], \"scatterpolargl\": [{\"marker\": {\"colorbar\": {\"outlinewidth\": 0, \"ticks\": \"\"}}, \"type\": \"scatterpolargl\"}], \"scatterternary\": [{\"marker\": {\"colorbar\": {\"outlinewidth\": 0, \"ticks\": \"\"}}, \"type\": \"scatterternary\"}], \"surface\": [{\"colorbar\": {\"outlinewidth\": 0, \"ticks\": \"\"}, \"colorscale\": [[0.0, \"#0d0887\"], [0.1111111111111111, \"#46039f\"], [0.2222222222222222, \"#7201a8\"], [0.3333333333333333, \"#9c179e\"], [0.4444444444444444, \"#bd3786\"], [0.5555555555555556, \"#d8576b\"], [0.6666666666666666, \"#ed7953\"], [0.7777777777777778, \"#fb9f3a\"], [0.8888888888888888, \"#fdca26\"], [1.0, \"#f0f921\"]], \"type\": \"surface\"}], \"table\": [{\"cells\": {\"fill\": {\"color\": \"#EBF0F8\"}, \"line\": {\"color\": \"white\"}}, \"header\": {\"fill\": {\"color\": \"#C8D4E3\"}, \"line\": {\"color\": \"white\"}}, \"type\": \"table\"}]}, \"layout\": {\"annotationdefaults\": {\"arrowcolor\": \"#2a3f5f\", \"arrowhead\": 0, \"arrowwidth\": 1}, \"coloraxis\": {\"colorbar\": {\"outlinewidth\": 0, \"ticks\": \"\"}}, \"colorscale\": {\"diverging\": [[0, \"#8e0152\"], [0.1, \"#c51b7d\"], [0.2, \"#de77ae\"], [0.3, \"#f1b6da\"], [0.4, \"#fde0ef\"], [0.5, \"#f7f7f7\"], [0.6, \"#e6f5d0\"], [0.7, \"#b8e186\"], [0.8, \"#7fbc41\"], [0.9, \"#4d9221\"], [1, \"#276419\"]], \"sequential\": [[0.0, \"#0d0887\"], [0.1111111111111111, \"#46039f\"], [0.2222222222222222, \"#7201a8\"], [0.3333333333333333, \"#9c179e\"], [0.4444444444444444, \"#bd3786\"], [0.5555555555555556, \"#d8576b\"], [0.6666666666666666, \"#ed7953\"], [0.7777777777777778, \"#fb9f3a\"], [0.8888888888888888, \"#fdca26\"], [1.0, \"#f0f921\"]], \"sequentialminus\": [[0.0, \"#0d0887\"], [0.1111111111111111, \"#46039f\"], [0.2222222222222222, \"#7201a8\"], [0.3333333333333333, \"#9c179e\"], [0.4444444444444444, \"#bd3786\"], [0.5555555555555556, \"#d8576b\"], [0.6666666666666666, \"#ed7953\"], [0.7777777777777778, \"#fb9f3a\"], [0.8888888888888888, \"#fdca26\"], [1.0, \"#f0f921\"]]}, \"colorway\": [\"#636efa\", \"#EF553B\", \"#00cc96\", \"#ab63fa\", \"#FFA15A\", \"#19d3f3\", \"#FF6692\", \"#B6E880\", \"#FF97FF\", \"#FECB52\"], \"font\": {\"color\": \"#2a3f5f\"}, \"geo\": {\"bgcolor\": \"white\", \"lakecolor\": \"white\", \"landcolor\": \"#E5ECF6\", \"showlakes\": true, \"showland\": true, \"subunitcolor\": \"white\"}, \"hoverlabel\": {\"align\": \"left\"}, \"hovermode\": \"closest\", \"mapbox\": {\"style\": \"light\"}, \"paper_bgcolor\": \"white\", \"plot_bgcolor\": \"#E5ECF6\", \"polar\": {\"angularaxis\": {\"gridcolor\": \"white\", \"linecolor\": \"white\", \"ticks\": \"\"}, \"bgcolor\": \"#E5ECF6\", \"radialaxis\": {\"gridcolor\": \"white\", \"linecolor\": \"white\", \"ticks\": \"\"}}, \"scene\": {\"xaxis\": {\"backgroundcolor\": \"#E5ECF6\", \"gridcolor\": \"white\", \"gridwidth\": 2, \"linecolor\": \"white\", \"showbackground\": true, \"ticks\": \"\", \"zerolinecolor\": \"white\"}, \"yaxis\": {\"backgroundcolor\": \"#E5ECF6\", \"gridcolor\": \"white\", \"gridwidth\": 2, \"linecolor\": \"white\", \"showbackground\": true, \"ticks\": \"\", \"zerolinecolor\": \"white\"}, \"zaxis\": {\"backgroundcolor\": \"#E5ECF6\", \"gridcolor\": \"white\", \"gridwidth\": 2, \"linecolor\": \"white\", \"showbackground\": true, \"ticks\": \"\", \"zerolinecolor\": \"white\"}}, \"shapedefaults\": {\"line\": {\"color\": \"#2a3f5f\"}}, \"ternary\": {\"aaxis\": {\"gridcolor\": \"white\", \"linecolor\": \"white\", \"ticks\": \"\"}, \"baxis\": {\"gridcolor\": \"white\", \"linecolor\": \"white\", \"ticks\": \"\"}, \"bgcolor\": \"#E5ECF6\", \"caxis\": {\"gridcolor\": \"white\", \"linecolor\": \"white\", \"ticks\": \"\"}}, \"title\": {\"x\": 0.05}, \"xaxis\": {\"automargin\": true, \"gridcolor\": \"white\", \"linecolor\": \"white\", \"ticks\": \"\", \"title\": {\"standoff\": 15}, \"zerolinecolor\": \"white\", \"zerolinewidth\": 2}, \"yaxis\": {\"automargin\": true, \"gridcolor\": \"white\", \"linecolor\": \"white\", \"ticks\": \"\", \"title\": {\"standoff\": 15}, \"zerolinecolor\": \"white\", \"zerolinewidth\": 2}}}, \"xaxis\": {\"anchor\": \"y\", \"domain\": [0.0, 1.0], \"title\": {\"text\": \"month\"}}, \"yaxis\": {\"anchor\": \"x\", \"domain\": [0.0, 1.0], \"title\": {\"text\": \"count\"}}},\n",
              "                        {\"responsive\": true}\n",
              "                    ).then(function(){\n",
              "                            \n",
              "var gd = document.getElementById('85d5e5a5-112f-4d15-baf8-cabb621362d1');\n",
              "var x = new MutationObserver(function (mutations, observer) {{\n",
              "        var display = window.getComputedStyle(gd).display;\n",
              "        if (!display || display === 'none') {{\n",
              "            console.log([gd, 'removed!']);\n",
              "            Plotly.purge(gd);\n",
              "            observer.disconnect();\n",
              "        }}\n",
              "}});\n",
              "\n",
              "// Listen for the removal of the full notebook cells\n",
              "var notebookContainer = gd.closest('#notebook-container');\n",
              "if (notebookContainer) {{\n",
              "    x.observe(notebookContainer, {childList: true});\n",
              "}}\n",
              "\n",
              "// Listen for the clearing of the current output cell\n",
              "var outputEl = gd.closest('.output');\n",
              "if (outputEl) {{\n",
              "    x.observe(outputEl, {childList: true});\n",
              "}}\n",
              "\n",
              "                        })\n",
              "                };\n",
              "                \n",
              "            </script>\n",
              "        </div>\n",
              "</body>\n",
              "</html>"
            ]
          },
          "metadata": {
            "tags": []
          }
        }
      ]
    },
    {
      "cell_type": "code",
      "metadata": {
        "id": "z6KPkxIYDpPX",
        "outputId": "44d82d3b-fe11-48f8-be06-884d1d72ec1e",
        "colab": {
          "base_uri": "https://localhost:8080/",
          "height": 452
        }
      },
      "source": [
        "data_month = data.groupby(['month'])['body'].apply(' '.join).reset_index()\r\n",
        "data_month = data_month.set_index('month')\r\n",
        "data_month"
      ],
      "execution_count": 19,
      "outputs": [
        {
          "output_type": "execute_result",
          "data": {
            "text/html": [
              "<div>\n",
              "<style scoped>\n",
              "    .dataframe tbody tr th:only-of-type {\n",
              "        vertical-align: middle;\n",
              "    }\n",
              "\n",
              "    .dataframe tbody tr th {\n",
              "        vertical-align: top;\n",
              "    }\n",
              "\n",
              "    .dataframe thead th {\n",
              "        text-align: right;\n",
              "    }\n",
              "</style>\n",
              "<table border=\"1\" class=\"dataframe\">\n",
              "  <thead>\n",
              "    <tr style=\"text-align: right;\">\n",
              "      <th></th>\n",
              "      <th>body</th>\n",
              "    </tr>\n",
              "    <tr>\n",
              "      <th>month</th>\n",
              "      <th></th>\n",
              "    </tr>\n",
              "  </thead>\n",
              "  <tbody>\n",
              "    <tr>\n",
              "      <th>1</th>\n",
              "      <td>Acapulco, Gro., Los principales destinos turís...</td>\n",
              "    </tr>\n",
              "    <tr>\n",
              "      <th>2</th>\n",
              "      <td>Seúl. Corea del Norte anunció un arsenal de me...</td>\n",
              "    </tr>\n",
              "    <tr>\n",
              "      <th>3</th>\n",
              "      <td>Mérida, Yuc. Para disminuir en todo lo posible...</td>\n",
              "    </tr>\n",
              "    <tr>\n",
              "      <th>4</th>\n",
              "      <td>Teotihuacán, Méx. Un grupo de comerciantes y a...</td>\n",
              "    </tr>\n",
              "    <tr>\n",
              "      <th>5</th>\n",
              "      <td>Berlín. Alemania prolongará hasta el 29 de jun...</td>\n",
              "    </tr>\n",
              "    <tr>\n",
              "      <th>6</th>\n",
              "      <td>Ciudad de México. De los 121 mil 765 estableci...</td>\n",
              "    </tr>\n",
              "    <tr>\n",
              "      <th>7</th>\n",
              "      <td>Lima. El gobierno peruano informó este miércol...</td>\n",
              "    </tr>\n",
              "    <tr>\n",
              "      <th>8</th>\n",
              "      <td>Londres. Las medidas para evitar la propagació...</td>\n",
              "    </tr>\n",
              "    <tr>\n",
              "      <th>9</th>\n",
              "      <td>Ciudad de México. Dirigentes de asociaciones d...</td>\n",
              "    </tr>\n",
              "    <tr>\n",
              "      <th>10</th>\n",
              "      <td>Bruselas. Bélgica impondrá reglas de confinami...</td>\n",
              "    </tr>\n",
              "    <tr>\n",
              "      <th>11</th>\n",
              "      <td>Londres. La totalidad de los 56 millones de ha...</td>\n",
              "    </tr>\n",
              "    <tr>\n",
              "      <th>12</th>\n",
              "      <td>México, como muchos países está volviendo a re...</td>\n",
              "    </tr>\n",
              "  </tbody>\n",
              "</table>\n",
              "</div>"
            ],
            "text/plain": [
              "                                                    body\n",
              "month                                                   \n",
              "1      Acapulco, Gro., Los principales destinos turís...\n",
              "2      Seúl. Corea del Norte anunció un arsenal de me...\n",
              "3      Mérida, Yuc. Para disminuir en todo lo posible...\n",
              "4      Teotihuacán, Méx. Un grupo de comerciantes y a...\n",
              "5      Berlín. Alemania prolongará hasta el 29 de jun...\n",
              "6      Ciudad de México. De los 121 mil 765 estableci...\n",
              "7      Lima. El gobierno peruano informó este miércol...\n",
              "8      Londres. Las medidas para evitar la propagació...\n",
              "9      Ciudad de México. Dirigentes de asociaciones d...\n",
              "10     Bruselas. Bélgica impondrá reglas de confinami...\n",
              "11     Londres. La totalidad de los 56 millones de ha...\n",
              "12     México, como muchos países está volviendo a re..."
            ]
          },
          "metadata": {
            "tags": []
          },
          "execution_count": 19
        }
      ]
    },
    {
      "cell_type": "code",
      "metadata": {
        "id": "pZV_hycuD_c-"
      },
      "source": [
        "def clean_text_round1(text):\r\n",
        "    '''Make text lowercase, remove text in square brackets, remove punctuation and remove words containing numbers.'''\r\n",
        "    text = text.lower()\r\n",
        "    text = re.sub('\\[.*?¿\\]\\%', ' ', text)\r\n",
        "    text = re.sub('[%s]' % re.escape(string.punctuation), ' ', text)\r\n",
        "    text = re.sub('\\w*\\d\\w*', '', text)\r\n",
        "    return text\r\n",
        " \r\n",
        "round1 = lambda x: clean_text_round1(x)\r\n",
        " \r\n",
        "data_clean = pd.DataFrame(data_year.body.apply(round1))\r\n",
        " \r\n",
        "# Apply a second round of cleaning\r\n",
        "def clean_text_round2(text):\r\n",
        "    '''Get rid of some additional punctuation and non-sensical text that was missed the first time around.'''\r\n",
        "    text = re.sub('[‘’“”…«»]', '', text)\r\n",
        "    text = re.sub('\\n', ' ', text)\r\n",
        "    return text\r\n",
        " \r\n",
        "round2 = lambda x: clean_text_round2(x)\r\n",
        " \r\n",
        "data_clean = pd.DataFrame(data_clean.body.apply(round2))\r\n",
        "data_clean\r\n",
        " \r\n",
        "# Let's pickle it for later use\r\n",
        "data_year.to_pickle(\"corpus.pkl\")"
      ],
      "execution_count": null,
      "outputs": []
    },
    {
      "cell_type": "markdown",
      "metadata": {
        "id": "lwLYmSZR-Rh3"
      },
      "source": [
        "### Filtrado por entidades"
      ]
    },
    {
      "cell_type": "code",
      "metadata": {
        "id": "J_izmPwN-Rh3"
      },
      "source": [
        ""
      ],
      "execution_count": null,
      "outputs": []
    }
  ]
}