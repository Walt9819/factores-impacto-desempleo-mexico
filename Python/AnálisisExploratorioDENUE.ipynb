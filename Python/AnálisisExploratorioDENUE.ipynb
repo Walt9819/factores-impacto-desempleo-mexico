{
 "cells": [
  {
   "cell_type": "markdown",
   "metadata": {
    "colab_type": "text",
    "id": "view-in-github"
   },
   "source": [
    "<a href=\"https://colab.research.google.com/github/Walt9819/factores-impacto-desempleo-mexico/blob/main/Python/An%C3%A1lisisExploratorioDENUE.ipynb\" target=\"_parent\"><img src=\"https://colab.research.google.com/assets/colab-badge.svg\" alt=\"Open In Colab\"/></a>"
   ]
  },
  {
   "cell_type": "markdown",
   "metadata": {
    "id": "-cJoYk0t9Ojq"
   },
   "source": [
    "**DENUE**\n",
    "\n",
    "Análisis exploratorio del conjunto de datos\n",
    "\n",
    "https://www.inegi.org.mx/app/mapa/denue/default.aspx\n"
   ]
  },
  {
   "cell_type": "markdown",
   "metadata": {
    "id": "nEVfSQA49Ojx"
   },
   "source": [
    "### Lectura de archivos"
   ]
  },
  {
   "cell_type": "markdown",
   "metadata": {},
   "source": [
    "### Filtrado por entidades"
   ]
  },
  {
   "cell_type": "code",
   "execution_count": null,
   "metadata": {},
   "outputs": [],
   "source": []
  }
 ],
 "metadata": {
  "colab": {
   "include_colab_link": true,
   "name": "AnálisisExploratorioDENUE.ipynb",
   "provenance": []
  },
  "kernelspec": {
   "display_name": "Python 3",
   "language": "python",
   "name": "python3"
  },
  "language_info": {
   "codemirror_mode": {
    "name": "ipython",
    "version": 3
   },
   "file_extension": ".py",
   "mimetype": "text/x-python",
   "name": "python",
   "nbconvert_exporter": "python",
   "pygments_lexer": "ipython3",
   "version": "3.7.4"
  }
 },
 "nbformat": 4,
 "nbformat_minor": 1
}
