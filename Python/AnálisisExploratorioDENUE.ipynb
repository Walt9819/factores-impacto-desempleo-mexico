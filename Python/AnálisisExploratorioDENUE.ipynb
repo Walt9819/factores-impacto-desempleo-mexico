{
  "nbformat": 4,
  "nbformat_minor": 0,
  "metadata": {
    "kernelspec": {
      "display_name": "Python 3",
      "language": "python",
      "name": "python3"
    },
    "language_info": {
      "codemirror_mode": {
        "name": "ipython",
        "version": 3
      },
      "file_extension": ".py",
      "mimetype": "text/x-python",
      "name": "python",
      "nbconvert_exporter": "python",
      "pygments_lexer": "ipython3",
      "version": "3.7.4"
    },
    "colab": {
      "name": "AnálisisExploratorioDENUE.ipynb",
      "provenance": [],
      "include_colab_link": true
    }
  },
  "cells": [
    {
      "cell_type": "markdown",
      "metadata": {
        "id": "view-in-github",
        "colab_type": "text"
      },
      "source": [
        "<a href=\"https://colab.research.google.com/github/Walt9819/factores-impacto-desempleo-mexico/blob/main/Python/An%C3%A1lisisExploratorioDENUE.ipynb\" target=\"_parent\"><img src=\"https://colab.research.google.com/assets/colab-badge.svg\" alt=\"Open In Colab\"/></a>"
      ]
    },
    {
      "cell_type": "markdown",
      "metadata": {
        "id": "i29Up-DB8bEw"
      },
      "source": [
        "**Directorio Estadístico Nacional de Unidades Económicas (DENUE)**\n",
        "\n",
        "Análisis exploratorio del conjunto de datos\n",
        "\n",
        "https://www.inegi.org.mx/app/mapa/denue/default.aspx"
      ]
    },
    {
      "cell_type": "code",
      "metadata": {
        "id": "Adh0I4ZY8bE2"
      },
      "source": [
        ""
      ],
      "execution_count": null,
      "outputs": []
    }
  ]
}