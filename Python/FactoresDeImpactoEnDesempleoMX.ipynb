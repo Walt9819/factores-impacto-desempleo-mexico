{
  "nbformat": 4,
  "nbformat_minor": 0,
  "metadata": {
    "colab": {
      "name": "FactoresDeImpactoEnDesempleoMX.ipynb",
      "provenance": [],
      "authorship_tag": "ABX9TyMnehfMpqZGgGycpfZg6VQ0",
      "include_colab_link": true
    },
    "kernelspec": {
      "name": "python3",
      "display_name": "Python 3"
    }
  },
  "cells": [
    {
      "cell_type": "markdown",
      "metadata": {
        "id": "view-in-github",
        "colab_type": "text"
      },
      "source": [
        "<a href=\"https://colab.research.google.com/github/Walt9819/factores-impacto-desempleo-mexico/blob/main/Python/FactoresDeImpactoEnDesempleoMX.ipynb\" target=\"_parent\"><img src=\"https://colab.research.google.com/assets/colab-badge.svg\" alt=\"Open In Colab\"/></a>"
      ]
    },
    {
      "cell_type": "markdown",
      "metadata": {
        "id": "NvG5ecx2yx1Q"
      },
      "source": [
        "# Equipo 18\r\n",
        "\r\n",
        "BEDU - Santander: Módulo 2. Procesamiento de Datos con Python\r\n",
        "\r\n",
        "Proyecto del equipo 18\r\n",
        "\r\n",
        "**Integrantes:**\r\n",
        "- Irene López [ver perfil](https://www.linkedin.com/in/irene-lopez-rodriguez/)\r\n",
        "- Laura Lozano [ver perfil](https://www.linkedin.com/in/laura-lozano-bautista/)\r\n",
        "- Enrique Rodríguez [ver perfil](https://www.linkedin.com/in/enrique-rodriguez97/)\r\n",
        "- Walter Rosales [ver perfil]()\r\n",
        "\r\n",
        "# Factores de Impacto en el Desempleo y la Recuperación Económica en México\r\n",
        "\r\n",
        "## Objetivo\r\n",
        "Analizar la situación del empleo en México durante los tres primeros trimestres de 2020, asimismo, calcular la probabilidad de estar desempleado conforme a características sociodemográficas y así identificar los perfiles de los mexicanos más vulnerables ante el deterioro del mercado laboral derivado de la situación que vivimos hoy en día."
      ]
    },
    {
      "cell_type": "markdown",
      "metadata": {
        "id": "GSWBvzPAIkUW"
      },
      "source": [
        "# Primera descarga de datos desde el INEGI\r\n",
        "\r\n",
        "**NOTA:** solo descargar si no están los datos dispoibles en el directorio de trabajo"
      ]
    },
    {
      "cell_type": "code",
      "metadata": {
        "id": "z-xFnO5fXkur"
      },
      "source": [
        "# run just once\r\n",
        "!pip3 install zipfile38\r\n",
        "!pip3 install dbfread"
      ],
      "execution_count": null,
      "outputs": []
    },
    {
      "cell_type": "code",
      "metadata": {
        "id": "zu56qK8jIjhf",
        "outputId": "c6adb20b-9ade-4cd4-eb97-6332c6290e8b",
        "colab": {
          "base_uri": "https://localhost:8080/"
        }
      },
      "source": [
        "import requests, sys, io # lectura desde URL\r\n",
        "import zipfile38 as zipfile # apoyos para lecturas de ZIP\r\n",
        "\r\n",
        "import pandas as pd # usar dataframes\r\n",
        "import os # manipulación de archivos en el sistema\r\n",
        "\r\n",
        "from dbfread import DBF # lectura de archivos .dbf\r\n",
        "\r\n",
        "zips = [\"SDEMT0420\", \"SDEMT0520\", \"SDEMT0620\", \"SDEMT120\", \"enoen_sdemt320\", \"SDEMT420\"]\r\n",
        "\r\n",
        "for zip in zips:\r\n",
        "  r = requests.get(f\"https://github.com/Walt9819/factores-impacto-desempleo-mexico/blob/main/R/Project/enoe_sdem/{zip}.zip?raw=true\")\r\n",
        "  z = zipfile.ZipFile(io.BytesIO(r.content))\r\n",
        "  z.extractall(\"\")\r\n",
        "\r\n",
        "\r\n",
        "# Columnas a leer\r\n",
        "columnas = [\"ENT\", \"MUN\", \"SEX\", \"EDA\", \"NIV_INS\", \"RAMA\", \"CLASE2\", \"PER\"]\r\n",
        "\r\n",
        "# Conjunto de datos a llenar\r\n",
        "data = pd.DataFrame()\r\n",
        "\r\n",
        "# Leer todos los archivos `.dbf`\r\n",
        "for file in os.listdir():\r\n",
        "    if file.endswith(\".dbf\"):\r\n",
        "      table = DBF(file, load=True)\r\n",
        "      print(f\"Load {file} succesfully\\nTransforming data..\")\r\n",
        "      table = pd.DataFrame(iter(table))\r\n",
        "      print(\"Adding data to main dataframe...\")\r\n",
        "      data = data.append(table[columnas])\r\n",
        "\r\n",
        "#Export to data\r\n",
        "data.to_csv(\"data_enoe.csv\", encoding=\"utf-8\")"
      ],
      "execution_count": 84,
      "outputs": [
        {
          "output_type": "stream",
          "text": [
            "Load SDEMT0420.dbf succesfully\n",
            "Transforming data..\n",
            "Adding data to main dataframe...\n",
            "Load SDEMT120.dbf succesfully\n",
            "Transforming data..\n",
            "Adding data to main dataframe...\n",
            "Load enoen_sdemt320.dbf succesfully\n",
            "Transforming data..\n",
            "Adding data to main dataframe...\n",
            "Load SDEMT0620.dbf succesfully\n",
            "Transforming data..\n",
            "Adding data to main dataframe...\n",
            "Load SDEMT0520.dbf succesfully\n",
            "Transforming data..\n",
            "Adding data to main dataframe...\n",
            "Load ENOEN_SDEMT420.dbf succesfully\n",
            "Transforming data..\n",
            "Adding data to main dataframe...\n",
            "  ENT  MUN SEX EDA  NIV_INS  RAMA  CLASE2  PER\n",
            "0  09  007   1  48        4     4       1  220\n",
            "1  09  007   2  37        4     0       4  220\n",
            "2  09  007   1  17        3     0       4  220\n",
            "3  09  007   1  16        3     0       2  220\n",
            "4  09  007   2  87        3     0       4  220\n"
          ],
          "name": "stdout"
        }
      ]
    },
    {
      "cell_type": "markdown",
      "metadata": {
        "id": "w0dsjjE-EHOg"
      },
      "source": [
        "# Lectura de datos"
      ]
    },
    {
      "cell_type": "code",
      "metadata": {
        "id": "0gsTgrvOEXnS"
      },
      "source": [
        "datos = pd.read_csv(\"data_enoe.csv\", encoding=\"utf-8\")"
      ],
      "execution_count": 88,
      "outputs": []
    },
    {
      "cell_type": "markdown",
      "metadata": {
        "id": "W9--OVAGDC72"
      },
      "source": [
        "## **TODO**\r\n",
        "\r\n",
        "```r\r\n",
        "for (zfile in list.files(pattern = \"*.zip$\", recursive = TRUE)) {\r\n",
        "  unzip(zfile, exdir = outDir)\r\n",
        "}\r\n",
        "```\r\n",
        "\r\n",
        "###### Lectura de todos los archivos .dbf en la carpeta del proyecto\r\n",
        "```r\r\n",
        "rawdata <- lapply(list.files(pattern = \"*.dbf$\", recursive = TRUE), read.dbf)\r\n",
        "```\r\n",
        "\r\n",
        "###### Extraccion de atributos considerados para el modelo de regresion logistica y lineal. \r\n",
        "```r\r\n",
        "selecteddata <- lapply(rawdata, select, c(\"ENT\", \"MUN\", \"SEX\", \"EDA\", \"NIV_INS\", \"RAMA\", \"CLASE2\", \"PER\"))\r\n",
        "```\r\n",
        "\r\n",
        "###### Construccion de data frame y cambio de nombres\r\n",
        "```r\r\n",
        "data_enoe <- do.call(rbind, selecteddata)\r\n",
        "colnames(data_enoe) <- c(\"cve_ent\", \"cve_mun\", \"sex\", \"eda\", \"niv_ins\", \"rama\", \"clase2\", \"per\")\r\n",
        "```\r\n",
        "\r\n",
        "###### Se omiten valores NaN dentro de la base de datos.\r\n",
        "```r\r\n",
        "data_enoe <- na.omit(data_enoe)\r\n",
        "```\r\n",
        "\r\n",
        "###### Se omiten los registros de las personas no economicamente activas y no dispibles [clase2 == 4], a los menores de 15 años y mayores de 65 años [eda <= 15 & eda >= 65] y aquellos sin nivel educativo registrado [niv_ins == 5]\r\n",
        "```r\r\n",
        "data_enoe <- data_enoe[data_enoe$clase2 <= 3 & \r\n",
        "                         data_enoe$clase2 != 0 & \r\n",
        "                         data_enoe$eda >= 15 & \r\n",
        "                         data_enoe$eda <= 65 &\r\n",
        "                         data_enoe$niv_ins <= 4, ]\r\n",
        "```"
      ]
    },
    {
      "cell_type": "code",
      "metadata": {
        "id": "GD4zNkQgDTlH"
      },
      "source": [
        ""
      ],
      "execution_count": null,
      "outputs": []
    }
  ]
}