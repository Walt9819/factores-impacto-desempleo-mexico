{
  "nbformat": 4,
  "nbformat_minor": 0,
  "metadata": {
    "colab": {
      "name": "FactoresDeImpactoEnDesempleoMX.ipynb",
      "provenance": [],
      "authorship_tag": "ABX9TyORPiXrIxFauXdrQ5M6+iyM",
      "include_colab_link": true
    },
    "kernelspec": {
      "name": "python3",
      "display_name": "Python 3"
    }
  },
  "cells": [
    {
      "cell_type": "markdown",
      "metadata": {
        "id": "view-in-github",
        "colab_type": "text"
      },
      "source": [
        "<a href=\"https://colab.research.google.com/github/Walt9819/factores-impacto-desempleo-mexico/blob/main/Python/FactoresDeImpactoEnDesempleoMX.ipynb\" target=\"_parent\"><img src=\"https://colab.research.google.com/assets/colab-badge.svg\" alt=\"Open In Colab\"/></a>"
      ]
    },
    {
      "cell_type": "markdown",
      "metadata": {
        "id": "NvG5ecx2yx1Q"
      },
      "source": [
        "# Equipo 18\r\n",
        "\r\n",
        "BEDU - Santander: Módulo 2. Procesamiento de Datos con Python\r\n",
        "\r\n",
        "Proyecto del equipo 18\r\n",
        "\r\n",
        "**Integrantes:**\r\n",
        "- Irene López [ver perfil](https://www.linkedin.com/in/irene-lopez-rodriguez/)\r\n",
        "- Laura Lozano [ver perfil](https://www.linkedin.com/in/laura-lozano-bautista/)\r\n",
        "- Enrique Rodríguez [ver perfil](https://www.linkedin.com/in/enrique-rodriguez97/)\r\n",
        "- Walter Rosales [ver perfil]()\r\n",
        "\r\n",
        "# Factores de Impacto en el Desempleo y la Recuperación Económica en México\r\n",
        "\r\n",
        "## Objetivo\r\n",
        "Analizar la situación del empleo en México durante los tres primeros trimestres de 2020, asimismo, calcular la probabilidad de estar desempleado conforme a características sociodemográficas y así identificar los perfiles de los mexicanos más vulnerables ante el deterioro del mercado laboral derivado de la situación que vivimos hoy en día."
      ]
    },
    {
      "cell_type": "markdown",
      "metadata": {
        "id": "GSWBvzPAIkUW"
      },
      "source": [
        "# Primera descarga de datos desde el INEGI\r\n",
        "\r\n",
        "**NOTA:** solo descargar si no están los datos dispoibles en el directorio de trabajo o si se desean actualizar los datos para incluir más trimestres de diferentes años"
      ]
    },
    {
      "cell_type": "code",
      "metadata": {
        "colab": {
          "base_uri": "https://localhost:8080/"
        },
        "id": "z-xFnO5fXkur",
        "outputId": "acecd481-b87d-4a5f-d33f-8a9bbb7133ab"
      },
      "source": [
        "# run just once\r\n",
        "!pip3 install zipfile38\r\n",
        "!pip3 install dbfread"
      ],
      "execution_count": 1,
      "outputs": [
        {
          "output_type": "stream",
          "text": [
            "Requirement already satisfied: zipfile38 in /usr/local/lib/python3.6/dist-packages (0.0.3)\n",
            "Requirement already satisfied: dbfread in /usr/local/lib/python3.6/dist-packages (2.0.7)\n"
          ],
          "name": "stdout"
        }
      ]
    },
    {
      "cell_type": "code",
      "metadata": {
        "colab": {
          "base_uri": "https://localhost:8080/"
        },
        "id": "zu56qK8jIjhf",
        "outputId": "b77019d0-4d9a-4845-c470-e06205991912"
      },
      "source": [
        "import requests, sys, io # lectura desde URL\r\n",
        "import zipfile38 as zipfile # apoyos para lecturas de ZIP\r\n",
        "\r\n",
        "import pandas as pd # usar dataframes\r\n",
        "import os # manipulación de archivos en el sistema\r\n",
        "\r\n",
        "from dbfread import DBF # lectura de archivos .dbf\r\n",
        "\r\n",
        "zips = [\"SDEMT0420\", \"SDEMT0520\", \"SDEMT0620\", \"SDEMT120\", \"enoen_sdemt320\", \"SDEMT420\"]\r\n",
        "\r\n",
        "for zip in zips:\r\n",
        "  r = requests.get(f\"https://github.com/Walt9819/factores-impacto-desempleo-mexico/blob/main/R/Project/enoe_sdem/{zip}.zip?raw=true\")\r\n",
        "  z = zipfile.ZipFile(io.BytesIO(r.content))\r\n",
        "  z.extractall(\"\")\r\n",
        "\r\n",
        "\r\n",
        "# Columnas a leer\r\n",
        "columnas = [\"ENT\", \"MUN\", \"SEX\", \"EDA\", \"NIV_INS\", \"RAMA\", \"CLASE2\", \"PER\"]\r\n",
        "\r\n",
        "# Conjunto de datos a llenar\r\n",
        "data = pd.DataFrame()\r\n",
        "\r\n",
        "# Leer todos los archivos `.dbf`\r\n",
        "for file in os.listdir():\r\n",
        "    if file.endswith(\".dbf\"):\r\n",
        "      table = DBF(file, load=True)\r\n",
        "      print(f\"Load {file} succesfully\\nTransforming data..\")\r\n",
        "      table = pd.DataFrame(iter(table))\r\n",
        "      print(\"Adding data to main dataframe...\")\r\n",
        "      data = data.append(table[columnas])\r\n",
        "\r\n",
        "#Export to data\r\n",
        "data.to_csv(\"data_enoe.csv\", encoding=\"utf-8\", index=False) # exportar a un CVS (de forma local)"
      ],
      "execution_count": 2,
      "outputs": [
        {
          "output_type": "stream",
          "text": [
            "Load SDEMT0420.dbf succesfully\n",
            "Transforming data..\n",
            "Adding data to main dataframe...\n",
            "Load SDEMT120.dbf succesfully\n",
            "Transforming data..\n",
            "Adding data to main dataframe...\n",
            "Load enoen_sdemt320.dbf succesfully\n",
            "Transforming data..\n",
            "Adding data to main dataframe...\n",
            "Load SDEMT0620.dbf succesfully\n",
            "Transforming data..\n",
            "Adding data to main dataframe...\n",
            "Load SDEMT0520.dbf succesfully\n",
            "Transforming data..\n",
            "Adding data to main dataframe...\n",
            "Load ENOEN_SDEMT420.dbf succesfully\n",
            "Transforming data..\n",
            "Adding data to main dataframe...\n"
          ],
          "name": "stdout"
        }
      ]
    },
    {
      "cell_type": "markdown",
      "metadata": {
        "id": "w0dsjjE-EHOg"
      },
      "source": [
        "# Lectura y limpieza de datos"
      ]
    },
    {
      "cell_type": "code",
      "metadata": {
        "colab": {
          "base_uri": "https://localhost:8080/",
          "height": 419
        },
        "id": "0gsTgrvOEXnS",
        "outputId": "63d6e202-df46-4a0f-ffff-b122519c3508"
      },
      "source": [
        "datos = pd.read_csv(\"https://github.com/Walt9819/factores-impacto-desempleo-mexico/blob/main/Python/data/data_enoe.csv?raw=true\", encoding=\"utf-8\") # leer datos\r\n",
        "\r\n",
        "datos.dropna(inplace=True) # eliminar valores NA\r\n",
        "\r\n",
        "# Se omiten los registros de las personas no economicamente activas y no disponibles \r\n",
        "# [clase2 == 4], a los menores de 15 años y mayores de 65 años [eda <= 15 & eda >= 65] \r\n",
        "# y aquellos sin nivel educativo registrado [niv_ins == 5]\r\n",
        "datos[(datos[\"EDA\"] >= 15) & (datos[\"EDA\"] <= 65) & (datos[\"CLASE2\"] <= 3) & (datos[\"CLASE2\"] != 0) & (datos[\"NIV_INS\"] <= 4)]"
      ],
      "execution_count": 3,
      "outputs": [
        {
          "output_type": "execute_result",
          "data": {
            "text/html": [
              "<div>\n",
              "<style scoped>\n",
              "    .dataframe tbody tr th:only-of-type {\n",
              "        vertical-align: middle;\n",
              "    }\n",
              "\n",
              "    .dataframe tbody tr th {\n",
              "        vertical-align: top;\n",
              "    }\n",
              "\n",
              "    .dataframe thead th {\n",
              "        text-align: right;\n",
              "    }\n",
              "</style>\n",
              "<table border=\"1\" class=\"dataframe\">\n",
              "  <thead>\n",
              "    <tr style=\"text-align: right;\">\n",
              "      <th></th>\n",
              "      <th>ENT</th>\n",
              "      <th>MUN</th>\n",
              "      <th>SEX</th>\n",
              "      <th>EDA</th>\n",
              "      <th>NIV_INS</th>\n",
              "      <th>RAMA</th>\n",
              "      <th>CLASE2</th>\n",
              "      <th>PER</th>\n",
              "    </tr>\n",
              "  </thead>\n",
              "  <tbody>\n",
              "    <tr>\n",
              "      <th>0</th>\n",
              "      <td>9</td>\n",
              "      <td>7.0</td>\n",
              "      <td>1.0</td>\n",
              "      <td>48.0</td>\n",
              "      <td>4</td>\n",
              "      <td>4</td>\n",
              "      <td>1</td>\n",
              "      <td>220</td>\n",
              "    </tr>\n",
              "    <tr>\n",
              "      <th>3</th>\n",
              "      <td>9</td>\n",
              "      <td>7.0</td>\n",
              "      <td>1.0</td>\n",
              "      <td>16.0</td>\n",
              "      <td>3</td>\n",
              "      <td>0</td>\n",
              "      <td>2</td>\n",
              "      <td>220</td>\n",
              "    </tr>\n",
              "    <tr>\n",
              "      <th>6</th>\n",
              "      <td>9</td>\n",
              "      <td>15.0</td>\n",
              "      <td>2.0</td>\n",
              "      <td>57.0</td>\n",
              "      <td>4</td>\n",
              "      <td>0</td>\n",
              "      <td>3</td>\n",
              "      <td>220</td>\n",
              "    </tr>\n",
              "    <tr>\n",
              "      <th>7</th>\n",
              "      <td>9</td>\n",
              "      <td>15.0</td>\n",
              "      <td>2.0</td>\n",
              "      <td>49.0</td>\n",
              "      <td>3</td>\n",
              "      <td>4</td>\n",
              "      <td>1</td>\n",
              "      <td>220</td>\n",
              "    </tr>\n",
              "    <tr>\n",
              "      <th>8</th>\n",
              "      <td>9</td>\n",
              "      <td>3.0</td>\n",
              "      <td>1.0</td>\n",
              "      <td>44.0</td>\n",
              "      <td>2</td>\n",
              "      <td>2</td>\n",
              "      <td>1</td>\n",
              "      <td>220</td>\n",
              "    </tr>\n",
              "    <tr>\n",
              "      <th>...</th>\n",
              "      <td>...</td>\n",
              "      <td>...</td>\n",
              "      <td>...</td>\n",
              "      <td>...</td>\n",
              "      <td>...</td>\n",
              "      <td>...</td>\n",
              "      <td>...</td>\n",
              "      <td>...</td>\n",
              "    </tr>\n",
              "    <tr>\n",
              "      <th>1164557</th>\n",
              "      <td>7</td>\n",
              "      <td>89.0</td>\n",
              "      <td>1.0</td>\n",
              "      <td>19.0</td>\n",
              "      <td>3</td>\n",
              "      <td>4</td>\n",
              "      <td>1</td>\n",
              "      <td>420</td>\n",
              "    </tr>\n",
              "    <tr>\n",
              "      <th>1164560</th>\n",
              "      <td>7</td>\n",
              "      <td>89.0</td>\n",
              "      <td>2.0</td>\n",
              "      <td>52.0</td>\n",
              "      <td>3</td>\n",
              "      <td>4</td>\n",
              "      <td>1</td>\n",
              "      <td>420</td>\n",
              "    </tr>\n",
              "    <tr>\n",
              "      <th>1164561</th>\n",
              "      <td>7</td>\n",
              "      <td>89.0</td>\n",
              "      <td>1.0</td>\n",
              "      <td>28.0</td>\n",
              "      <td>4</td>\n",
              "      <td>4</td>\n",
              "      <td>1</td>\n",
              "      <td>420</td>\n",
              "    </tr>\n",
              "    <tr>\n",
              "      <th>1164562</th>\n",
              "      <td>7</td>\n",
              "      <td>89.0</td>\n",
              "      <td>1.0</td>\n",
              "      <td>37.0</td>\n",
              "      <td>4</td>\n",
              "      <td>4</td>\n",
              "      <td>1</td>\n",
              "      <td>420</td>\n",
              "    </tr>\n",
              "    <tr>\n",
              "      <th>1164563</th>\n",
              "      <td>7</td>\n",
              "      <td>89.0</td>\n",
              "      <td>2.0</td>\n",
              "      <td>36.0</td>\n",
              "      <td>4</td>\n",
              "      <td>4</td>\n",
              "      <td>1</td>\n",
              "      <td>420</td>\n",
              "    </tr>\n",
              "  </tbody>\n",
              "</table>\n",
              "<p>555301 rows × 8 columns</p>\n",
              "</div>"
            ],
            "text/plain": [
              "         ENT   MUN  SEX   EDA  NIV_INS  RAMA  CLASE2  PER\n",
              "0          9   7.0  1.0  48.0        4     4       1  220\n",
              "3          9   7.0  1.0  16.0        3     0       2  220\n",
              "6          9  15.0  2.0  57.0        4     0       3  220\n",
              "7          9  15.0  2.0  49.0        3     4       1  220\n",
              "8          9   3.0  1.0  44.0        2     2       1  220\n",
              "...      ...   ...  ...   ...      ...   ...     ...  ...\n",
              "1164557    7  89.0  1.0  19.0        3     4       1  420\n",
              "1164560    7  89.0  2.0  52.0        3     4       1  420\n",
              "1164561    7  89.0  1.0  28.0        4     4       1  420\n",
              "1164562    7  89.0  1.0  37.0        4     4       1  420\n",
              "1164563    7  89.0  2.0  36.0        4     4       1  420\n",
              "\n",
              "[555301 rows x 8 columns]"
            ]
          },
          "metadata": {
            "tags": []
          },
          "execution_count": 3
        }
      ]
    },
    {
      "cell_type": "code",
      "metadata": {
        "id": "GD4zNkQgDTlH"
      },
      "source": [
        ""
      ],
      "execution_count": 3,
      "outputs": []
    }
  ]
}