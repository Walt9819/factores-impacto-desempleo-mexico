{
  "nbformat": 4,
  "nbformat_minor": 0,
  "metadata": {
    "colab": {
      "name": "enoe_empleo_sectorial.ipynb",
      "provenance": [],
      "collapsed_sections": [],
      "authorship_tag": "ABX9TyP0DX5dddj9AOmU89ekA7p1",
      "include_colab_link": true
    },
    "kernelspec": {
      "name": "python3",
      "display_name": "Python 3"
    }
  },
  "cells": [
    {
      "cell_type": "markdown",
      "metadata": {
        "id": "view-in-github",
        "colab_type": "text"
      },
      "source": [
        "<a href=\"https://colab.research.google.com/github/Walt9819/factores-impacto-desempleo-mexico/blob/main/Python/FactoresDeImpactoEnDesempleoMX.ipynb\" target=\"_parent\"><img src=\"https://colab.research.google.com/assets/colab-badge.svg\" alt=\"Open In Colab\"/></a>"
      ]
    },
    {
      "cell_type": "markdown",
      "metadata": {
        "id": "w02MjTf0vJ60"
      },
      "source": [
        "# BEDU - Santander\r\n",
        "## *Módulo 2. Procesamiento de Datos con Python*\r\n",
        "\r\n",
        "**Equipo 18**\r\n",
        "\r\n",
        "Integrantes:\r\n",
        "- Irene López [ver perfil](https://www.linkedin.com/in/irene-lopez-rodriguez/)\r\n",
        "- Laura Lozano [ver perfil](https://www.linkedin.com/in/laura-lozano-bautista/)\r\n",
        "- Enrique Rodríguez [ver perfil](https://www.linkedin.com/in/enrique-rodriguez97/)\r\n",
        "- Walter Rosales [ver perfil]()\r\n",
        "\r\n"
      ]
    },
    {
      "cell_type": "markdown",
      "metadata": {
        "id": "AxdU26rqYExQ"
      },
      "source": [
        "# Tema: **Impacto de la pandemia de COVID-19 en el empleo del sector restaurantero y de alojamiento en México**\r\n",
        "\r\n",
        "## Identificación del problema\r\n",
        "La pandemia de COVID-19 en México trajo consigo desempleo y traslado de la población económicamente activa hacia la inactividad, ya sea por incompatibilidad de los horarios personales con el trabajo en línea, recortes administrativos o falta de herramientas tecnológicas. Asimismo, las personas que se mantuvieron ocupadas durante este periodo vieron un cambio en la calidad de su empleo, pues los costos económicos de las medidas sanitarias que las autoridades tomaron se vieron reflejados en la reducción de la oferta laboral (implicando así una mayor carga laboral para los empleados que permanecieron en las empresas), una menor capacidad utilizada y el funcionamiento de las cadenas de valor.\r\n",
        "\r\n",
        "En los Pre-Criterios 2021 de la SHCP se menciona que los sectores que se vieron afectados de manera más inmediata y persistente son los servicios de alojamiento, esparcimiento, comercio, transporte, y aquellas regiones mayormente dependientes del turismo local y foráneo. Por otra parte, el comercio electrónico y los servicios de telecomunicaciones y tecnologías de la información, así como la venta de productos farmacéuticos se vieron favorecidos por el aumento de la demanda de sus productos y servicios. Dado que la pandemia ha tenido efectos diferenciados en los sectores, se espera que el empleo en cada uno de ellos también haya presentado cambios heterogéneos. Es de suma importancia investigar cuál fue el comportamiento del empleo en los sectores de servicios más afectados por el confinamiento, haciendo énfasis en las remuneraciones, jornadas laborales, acceso a instituciones de salud y tamaño de la unidad económica.\r\n",
        "\r\n",
        "\r\n",
        "## Objetivo\r\n",
        "> Analizar la situación del empleo en México durante el 2020 en los sectores de la actividad económica, haciendo especial énfasis en las condiciones laborales para saber si tuvo lugar la precarización del empleo.\r\n",
        "\r\n",
        "\r\n",
        "## Preguntas de investigación\r\n",
        "*\t¿Cómo son las condiciones laborales de las personas que permanecieron en la ocupación durante la pandemia de COVID-19? \r\n",
        "*\t¿Aceptaron recortes salariales con tal de conservar su empleo? \r\n",
        "*\t¿Qué pasó con los trabajadores de los sectores más afectados? \r\n",
        "*\t¿Y los de aquellos sectores que se vieron favorecidos por esta situación?\r\n",
        "*\t¿Qué parte de la estructura productiva fue la más golpeada: micros, pequeñas, medianas o grandes empresas?\r\n"
      ]
    },
    {
      "cell_type": "markdown",
      "metadata": {
        "id": "pGX3WRWC1xYs"
      },
      "source": [
        "## Recolección de datos\r\n",
        "\r\n",
        "La fuente de datos para estre proyecto es la ENOE -para el segundo trimestre de 2020 se utiliza a la ETOE- del INEGI, para el periodo del primer trimestre al cuarto trimestre del 2020.\r\n",
        "\r\n",
        "\r\n",
        "**VARIABLES**: Para conocer la codificación de las variables disponibles en el Cuestionario Sociodemográfico de la ENOE, revisar la siguiente documentación https://www.inegi.org.mx/contenidos/programas/enoe/15ymas/doc/fd_c_bas_amp_15ymas.pdf\r\n",
        "\r\n",
        "**NOTA:** solo descargar si no están los datos disponibles en el directorio de trabajo o si se desean actualizar los datos para incluir más trimestres de diferentes años"
      ]
    },
    {
      "cell_type": "code",
      "metadata": {
        "colab": {
          "base_uri": "https://localhost:8080/"
        },
        "id": "HSlAvdW111Ip",
        "outputId": "924f4d45-80e2-4ba6-ab6d-a1da382bb1d6"
      },
      "source": [
        "# Correr sólo una vez\r\n",
        "!pip3 install zipfile38\r\n",
        "!pip3 install dbfread"
      ],
      "execution_count": null,
      "outputs": [
        {
          "output_type": "stream",
          "text": [
            "Requirement already satisfied: zipfile38 in /usr/local/lib/python3.7/dist-packages (0.0.3)\n",
            "Requirement already satisfied: dbfread in /usr/local/lib/python3.7/dist-packages (2.0.7)\n"
          ],
          "name": "stdout"
        }
      ]
    },
    {
      "cell_type": "code",
      "metadata": {
        "colab": {
          "base_uri": "https://localhost:8080/"
        },
        "id": "4k50Xsul1nai",
        "outputId": "4b3f7afc-cc3f-41b7-8c3b-dbf0e02030e0"
      },
      "source": [
        "import requests, sys, io # lectura desde URL\r\n",
        "import zipfile38 as zipfile # apoyos para lecturas de ZIP\r\n",
        "\r\n",
        "import pandas as pd # usar dataframes\r\n",
        "import os # manipulación de archivos en el sistema\r\n",
        "\r\n",
        "from dbfread import DBF # lectura de archivos .dbf\r\n",
        "\r\n",
        "# Lectura de los archivos del cuestionario sociodemográfico de la ENOE\r\n",
        "zips = [\"SDEMT0420\", \"SDEMT0520\", \"SDEMT0620\", \"SDEMT120\", \"enoen_sdemt320\", \"SDEMT420\"]\r\n",
        "\r\n",
        "for zip in zips:\r\n",
        "  r = requests.get(f\"https://github.com/Walt9819/factores-impacto-desempleo-mexico/blob/main/R/Project/enoe_sdem/{zip}.zip?raw=true\")\r\n",
        "  z = zipfile.ZipFile(io.BytesIO(r.content))\r\n",
        "  z.extractall(\"\")\r\n",
        "\r\n",
        "\r\n",
        "# Columnas a leer\r\n",
        "columnas = [\"SEX\", \"EDA\", \"NIV_INS\", \"RAMA_EST2\", \"CLASE2\", \"PER\", \"DUR_EST\", \"ING7C\", \"MEDICA5C\", \"EMPLE7C\"]\r\n",
        "\r\n",
        "# Conjunto de datos a llenar\r\n",
        "data = pd.DataFrame()\r\n",
        "\r\n",
        "\r\n",
        "# Leer todos los archivos `.dbf`\r\n",
        "for file in os.listdir():\r\n",
        "    if file.endswith(\".dbf\"):\r\n",
        "      table = DBF(file, load=True)\r\n",
        "      print(f\"Load {file} succesfully\\nTransforming data..\")\r\n",
        "      table = pd.DataFrame(iter(table))\r\n",
        "      print(\"Adding data to main dataframe...\")\r\n",
        "      data = data.append(table[columnas])\r\n",
        "\r\n",
        "# Sólo nos quedamos con las personas ocupadas (codificado como 1)\r\n",
        "\r\n",
        "data = data.drop(data[data['CLASE2']>1].index)\r\n",
        "\r\n",
        "#Export to data\r\n",
        "data.to_csv(\"data_enoe_amp.csv\", encoding=\"utf-8\", index=False) # exportar a un CVS (de forma local)"
      ],
      "execution_count": null,
      "outputs": [
        {
          "output_type": "stream",
          "text": [
            "Load ENOEN_SDEMT420.dbf succesfully\n",
            "Transforming data..\n",
            "Adding data to main dataframe...\n",
            "Load SDEMT0520.dbf succesfully\n",
            "Transforming data..\n",
            "Adding data to main dataframe...\n",
            "Load SDEMT0620.dbf succesfully\n",
            "Transforming data..\n",
            "Adding data to main dataframe...\n",
            "Load SDEMT120.dbf succesfully\n",
            "Transforming data..\n",
            "Adding data to main dataframe...\n",
            "Load enoen_sdemt320.dbf succesfully\n",
            "Transforming data..\n",
            "Adding data to main dataframe...\n",
            "Load SDEMT0420.dbf succesfully\n",
            "Transforming data..\n",
            "Adding data to main dataframe...\n"
          ],
          "name": "stdout"
        }
      ]
    },
    {
      "cell_type": "code",
      "metadata": {
        "colab": {
          "base_uri": "https://localhost:8080/",
          "height": 17
        },
        "id": "B-ooOukFQMaf",
        "outputId": "5a2b3072-092e-4e12-8103-8b12fa743cb6"
      },
      "source": [
        "from google.colab import files\r\n",
        "files.download(\"data_enoe_amp.csv\")"
      ],
      "execution_count": null,
      "outputs": [
        {
          "output_type": "display_data",
          "data": {
            "application/javascript": [
              "\n",
              "    async function download(id, filename, size) {\n",
              "      if (!google.colab.kernel.accessAllowed) {\n",
              "        return;\n",
              "      }\n",
              "      const div = document.createElement('div');\n",
              "      const label = document.createElement('label');\n",
              "      label.textContent = `Downloading \"${filename}\": `;\n",
              "      div.appendChild(label);\n",
              "      const progress = document.createElement('progress');\n",
              "      progress.max = size;\n",
              "      div.appendChild(progress);\n",
              "      document.body.appendChild(div);\n",
              "\n",
              "      const buffers = [];\n",
              "      let downloaded = 0;\n",
              "\n",
              "      const channel = await google.colab.kernel.comms.open(id);\n",
              "      // Send a message to notify the kernel that we're ready.\n",
              "      channel.send({})\n",
              "\n",
              "      for await (const message of channel.messages) {\n",
              "        // Send a message to notify the kernel that we're ready.\n",
              "        channel.send({})\n",
              "        if (message.buffers) {\n",
              "          for (const buffer of message.buffers) {\n",
              "            buffers.push(buffer);\n",
              "            downloaded += buffer.byteLength;\n",
              "            progress.value = downloaded;\n",
              "          }\n",
              "        }\n",
              "      }\n",
              "      const blob = new Blob(buffers, {type: 'application/binary'});\n",
              "      const a = document.createElement('a');\n",
              "      a.href = window.URL.createObjectURL(blob);\n",
              "      a.download = filename;\n",
              "      div.appendChild(a);\n",
              "      a.click();\n",
              "      div.remove();\n",
              "    }\n",
              "  "
            ],
            "text/plain": [
              "<IPython.core.display.Javascript object>"
            ]
          },
          "metadata": {
            "tags": []
          }
        },
        {
          "output_type": "display_data",
          "data": {
            "application/javascript": [
              "download(\"download_e290bea2-db6f-4441-bc05-9ffe654b8911\", \"data_enoe_amp.csv\", 6593904)"
            ],
            "text/plain": [
              "<IPython.core.display.Javascript object>"
            ]
          },
          "metadata": {
            "tags": []
          }
        }
      ]
    },
    {
      "cell_type": "markdown",
      "metadata": {
        "id": "jSEhkdqCbZVj"
      },
      "source": [
        "## Análisis exploratorio de datos"
      ]
    },
    {
      "cell_type": "code",
      "metadata": {
        "id": "zb0EZwrta_9I"
      },
      "source": [
        "import pandas as pd"
      ],
      "execution_count": 3,
      "outputs": []
    },
    {
      "cell_type": "code",
      "metadata": {
        "colab": {
          "base_uri": "https://localhost:8080/",
          "height": 419
        },
        "id": "CVlYBs7va8lj",
        "outputId": "77f9a083-25cc-475a-d822-32139665794b"
      },
      "source": [
        "# Lectura de datos y creación de DataFrame\r\n",
        "df = pd.read_csv(\"https://github.com/Walt9819/factores-impacto-desempleo-mexico/blob/main/Python/data/data_enoe_amp.csv?raw=true\", encoding=\"utf-8\")\r\n",
        "\r\n",
        "df"
      ],
      "execution_count": 4,
      "outputs": [
        {
          "output_type": "execute_result",
          "data": {
            "text/html": [
              "<div>\n",
              "<style scoped>\n",
              "    .dataframe tbody tr th:only-of-type {\n",
              "        vertical-align: middle;\n",
              "    }\n",
              "\n",
              "    .dataframe tbody tr th {\n",
              "        vertical-align: top;\n",
              "    }\n",
              "\n",
              "    .dataframe thead th {\n",
              "        text-align: right;\n",
              "    }\n",
              "</style>\n",
              "<table border=\"1\" class=\"dataframe\">\n",
              "  <thead>\n",
              "    <tr style=\"text-align: right;\">\n",
              "      <th></th>\n",
              "      <th>SEX</th>\n",
              "      <th>EDA</th>\n",
              "      <th>NIV_INS</th>\n",
              "      <th>RAMA_EST2</th>\n",
              "      <th>CLASE2</th>\n",
              "      <th>PER</th>\n",
              "      <th>DUR_EST</th>\n",
              "      <th>ING7C</th>\n",
              "      <th>MEDICA5C</th>\n",
              "      <th>EMPLE7C</th>\n",
              "    </tr>\n",
              "  </thead>\n",
              "  <tbody>\n",
              "    <tr>\n",
              "      <th>0</th>\n",
              "      <td>2.0</td>\n",
              "      <td>8.0</td>\n",
              "      <td>1</td>\n",
              "      <td>0</td>\n",
              "      <td>0</td>\n",
              "      <td>420</td>\n",
              "      <td>0</td>\n",
              "      <td>0</td>\n",
              "      <td>0</td>\n",
              "      <td>0</td>\n",
              "    </tr>\n",
              "    <tr>\n",
              "      <th>1</th>\n",
              "      <td>2.0</td>\n",
              "      <td>46.0</td>\n",
              "      <td>4</td>\n",
              "      <td>7</td>\n",
              "      <td>1</td>\n",
              "      <td>420</td>\n",
              "      <td>4</td>\n",
              "      <td>2</td>\n",
              "      <td>1</td>\n",
              "      <td>2</td>\n",
              "    </tr>\n",
              "    <tr>\n",
              "      <th>2</th>\n",
              "      <td>1.0</td>\n",
              "      <td>46.0</td>\n",
              "      <td>4</td>\n",
              "      <td>7</td>\n",
              "      <td>1</td>\n",
              "      <td>420</td>\n",
              "      <td>2</td>\n",
              "      <td>1</td>\n",
              "      <td>1</td>\n",
              "      <td>1</td>\n",
              "    </tr>\n",
              "    <tr>\n",
              "      <th>3</th>\n",
              "      <td>2.0</td>\n",
              "      <td>1.0</td>\n",
              "      <td>0</td>\n",
              "      <td>0</td>\n",
              "      <td>0</td>\n",
              "      <td>420</td>\n",
              "      <td>0</td>\n",
              "      <td>0</td>\n",
              "      <td>0</td>\n",
              "      <td>0</td>\n",
              "    </tr>\n",
              "    <tr>\n",
              "      <th>4</th>\n",
              "      <td>1.0</td>\n",
              "      <td>4.0</td>\n",
              "      <td>0</td>\n",
              "      <td>0</td>\n",
              "      <td>0</td>\n",
              "      <td>420</td>\n",
              "      <td>0</td>\n",
              "      <td>0</td>\n",
              "      <td>0</td>\n",
              "      <td>0</td>\n",
              "    </tr>\n",
              "    <tr>\n",
              "      <th>...</th>\n",
              "      <td>...</td>\n",
              "      <td>...</td>\n",
              "      <td>...</td>\n",
              "      <td>...</td>\n",
              "      <td>...</td>\n",
              "      <td>...</td>\n",
              "      <td>...</td>\n",
              "      <td>...</td>\n",
              "      <td>...</td>\n",
              "      <td>...</td>\n",
              "    </tr>\n",
              "    <tr>\n",
              "      <th>287226</th>\n",
              "      <td>NaN</td>\n",
              "      <td>NaN</td>\n",
              "      <td>0</td>\n",
              "      <td>0</td>\n",
              "      <td>0</td>\n",
              "      <td>220</td>\n",
              "      <td>0</td>\n",
              "      <td>0</td>\n",
              "      <td>0</td>\n",
              "      <td>0</td>\n",
              "    </tr>\n",
              "    <tr>\n",
              "      <th>287227</th>\n",
              "      <td>NaN</td>\n",
              "      <td>NaN</td>\n",
              "      <td>0</td>\n",
              "      <td>0</td>\n",
              "      <td>0</td>\n",
              "      <td>220</td>\n",
              "      <td>0</td>\n",
              "      <td>0</td>\n",
              "      <td>0</td>\n",
              "      <td>0</td>\n",
              "    </tr>\n",
              "    <tr>\n",
              "      <th>287228</th>\n",
              "      <td>2.0</td>\n",
              "      <td>12.0</td>\n",
              "      <td>0</td>\n",
              "      <td>0</td>\n",
              "      <td>0</td>\n",
              "      <td>220</td>\n",
              "      <td>0</td>\n",
              "      <td>0</td>\n",
              "      <td>0</td>\n",
              "      <td>0</td>\n",
              "    </tr>\n",
              "    <tr>\n",
              "      <th>287229</th>\n",
              "      <td>NaN</td>\n",
              "      <td>NaN</td>\n",
              "      <td>0</td>\n",
              "      <td>0</td>\n",
              "      <td>0</td>\n",
              "      <td>220</td>\n",
              "      <td>0</td>\n",
              "      <td>0</td>\n",
              "      <td>0</td>\n",
              "      <td>0</td>\n",
              "    </tr>\n",
              "    <tr>\n",
              "      <th>287230</th>\n",
              "      <td>NaN</td>\n",
              "      <td>NaN</td>\n",
              "      <td>0</td>\n",
              "      <td>0</td>\n",
              "      <td>0</td>\n",
              "      <td>220</td>\n",
              "      <td>0</td>\n",
              "      <td>0</td>\n",
              "      <td>0</td>\n",
              "      <td>0</td>\n",
              "    </tr>\n",
              "  </tbody>\n",
              "</table>\n",
              "<p>287231 rows × 10 columns</p>\n",
              "</div>"
            ],
            "text/plain": [
              "        SEX   EDA  NIV_INS  RAMA_EST2  ...  DUR_EST  ING7C  MEDICA5C  EMPLE7C\n",
              "0       2.0   8.0        1          0  ...        0      0         0        0\n",
              "1       2.0  46.0        4          7  ...        4      2         1        2\n",
              "2       1.0  46.0        4          7  ...        2      1         1        1\n",
              "3       2.0   1.0        0          0  ...        0      0         0        0\n",
              "4       1.0   4.0        0          0  ...        0      0         0        0\n",
              "...     ...   ...      ...        ...  ...      ...    ...       ...      ...\n",
              "287226  NaN   NaN        0          0  ...        0      0         0        0\n",
              "287227  NaN   NaN        0          0  ...        0      0         0        0\n",
              "287228  2.0  12.0        0          0  ...        0      0         0        0\n",
              "287229  NaN   NaN        0          0  ...        0      0         0        0\n",
              "287230  NaN   NaN        0          0  ...        0      0         0        0\n",
              "\n",
              "[287231 rows x 10 columns]"
            ]
          },
          "metadata": {
            "tags": []
          },
          "execution_count": 4
        }
      ]
    },
    {
      "cell_type": "code",
      "metadata": {
        "colab": {
          "base_uri": "https://localhost:8080/"
        },
        "id": "6Tpy_kEIdnWr",
        "outputId": "a0139918-fcf0-48cc-c05b-e9cdf5d3a00b"
      },
      "source": [
        "# Tamaño de DataFrame: 287,231 registros y 10 columnas\r\n",
        "df.shape"
      ],
      "execution_count": 5,
      "outputs": [
        {
          "output_type": "execute_result",
          "data": {
            "text/plain": [
              "(287231, 10)"
            ]
          },
          "metadata": {
            "tags": []
          },
          "execution_count": 5
        }
      ]
    },
    {
      "cell_type": "code",
      "metadata": {
        "colab": {
          "base_uri": "https://localhost:8080/"
        },
        "id": "zRhePeZ1fGAr",
        "outputId": "11624999-7f61-40b0-ef52-2a296b8f5eaf"
      },
      "source": [
        "# Primeros registros\r\n",
        "df.head"
      ],
      "execution_count": 6,
      "outputs": [
        {
          "output_type": "execute_result",
          "data": {
            "text/plain": [
              "<bound method NDFrame.head of         SEX   EDA  NIV_INS  RAMA_EST2  ...  DUR_EST  ING7C  MEDICA5C  EMPLE7C\n",
              "0       2.0   8.0        1          0  ...        0      0         0        0\n",
              "1       2.0  46.0        4          7  ...        4      2         1        2\n",
              "2       1.0  46.0        4          7  ...        2      1         1        1\n",
              "3       2.0   1.0        0          0  ...        0      0         0        0\n",
              "4       1.0   4.0        0          0  ...        0      0         0        0\n",
              "...     ...   ...      ...        ...  ...      ...    ...       ...      ...\n",
              "287226  NaN   NaN        0          0  ...        0      0         0        0\n",
              "287227  NaN   NaN        0          0  ...        0      0         0        0\n",
              "287228  2.0  12.0        0          0  ...        0      0         0        0\n",
              "287229  NaN   NaN        0          0  ...        0      0         0        0\n",
              "287230  NaN   NaN        0          0  ...        0      0         0        0\n",
              "\n",
              "[287231 rows x 10 columns]>"
            ]
          },
          "metadata": {
            "tags": []
          },
          "execution_count": 6
        }
      ]
    },
    {
      "cell_type": "code",
      "metadata": {
        "colab": {
          "base_uri": "https://localhost:8080/"
        },
        "id": "52VbNWcwfGb0",
        "outputId": "f8b8f8c8-3c0b-411a-bec6-534a06d2588c"
      },
      "source": [
        "# Últimos registros\r\n",
        "df.tail"
      ],
      "execution_count": 7,
      "outputs": [
        {
          "output_type": "execute_result",
          "data": {
            "text/plain": [
              "<bound method NDFrame.tail of         SEX   EDA  NIV_INS  RAMA_EST2  ...  DUR_EST  ING7C  MEDICA5C  EMPLE7C\n",
              "0       2.0   8.0        1          0  ...        0      0         0        0\n",
              "1       2.0  46.0        4          7  ...        4      2         1        2\n",
              "2       1.0  46.0        4          7  ...        2      1         1        1\n",
              "3       2.0   1.0        0          0  ...        0      0         0        0\n",
              "4       1.0   4.0        0          0  ...        0      0         0        0\n",
              "...     ...   ...      ...        ...  ...      ...    ...       ...      ...\n",
              "287226  NaN   NaN        0          0  ...        0      0         0        0\n",
              "287227  NaN   NaN        0          0  ...        0      0         0        0\n",
              "287228  2.0  12.0        0          0  ...        0      0         0        0\n",
              "287229  NaN   NaN        0          0  ...        0      0         0        0\n",
              "287230  NaN   NaN        0          0  ...        0      0         0        0\n",
              "\n",
              "[287231 rows x 10 columns]>"
            ]
          },
          "metadata": {
            "tags": []
          },
          "execution_count": 7
        }
      ]
    },
    {
      "cell_type": "code",
      "metadata": {
        "colab": {
          "base_uri": "https://localhost:8080/"
        },
        "id": "s0Ya9uWrfGnh",
        "outputId": "ef07a66f-2043-4f91-9908-f231d2abfcd3"
      },
      "source": [
        "# Tipos de datos\r\n",
        "df.dtypes"
      ],
      "execution_count": 8,
      "outputs": [
        {
          "output_type": "execute_result",
          "data": {
            "text/plain": [
              "SEX          float64\n",
              "EDA          float64\n",
              "NIV_INS        int64\n",
              "RAMA_EST2      int64\n",
              "CLASE2         int64\n",
              "PER            int64\n",
              "DUR_EST        int64\n",
              "ING7C          int64\n",
              "MEDICA5C       int64\n",
              "EMPLE7C        int64\n",
              "dtype: object"
            ]
          },
          "metadata": {
            "tags": []
          },
          "execution_count": 8
        }
      ]
    },
    {
      "cell_type": "markdown",
      "metadata": {
        "id": "JQIhe0EnbmYv"
      },
      "source": [
        "## Limpieza de datos"
      ]
    },
    {
      "cell_type": "code",
      "metadata": {
        "colab": {
          "base_uri": "https://localhost:8080/"
        },
        "id": "TO_Olpvwq5_e",
        "outputId": "4b9310f7-bf0d-4ff3-f9f1-1178380e7454"
      },
      "source": [
        "# Cambio de nombre de columnas\r\n",
        "df.columns"
      ],
      "execution_count": 9,
      "outputs": [
        {
          "output_type": "execute_result",
          "data": {
            "text/plain": [
              "Index(['SEX', 'EDA', 'NIV_INS', 'RAMA_EST2', 'CLASE2', 'PER', 'DUR_EST',\n",
              "       'ING7C', 'MEDICA5C', 'EMPLE7C'],\n",
              "      dtype='object')"
            ]
          },
          "metadata": {
            "tags": []
          },
          "execution_count": 9
        }
      ]
    },
    {
      "cell_type": "code",
      "metadata": {
        "colab": {
          "base_uri": "https://localhost:8080/"
        },
        "id": "6z8tbJVcroX9",
        "outputId": "d547788b-2ba1-4f97-f3b3-eb0c746f80a4"
      },
      "source": [
        "df.columns = ['sexo', 'edad', 'niv_educ', 'sector', 'ocu', 'periodo', 'jor_lab',\r\n",
        "       'niv_ing', 'inst_salud', 'uni_eco']\r\n",
        "df.columns"
      ],
      "execution_count": 10,
      "outputs": [
        {
          "output_type": "execute_result",
          "data": {
            "text/plain": [
              "Index(['sexo', 'edad', 'niv_educ', 'sector', 'ocu', 'periodo', 'jor_lab',\n",
              "       'niv_ing', 'inst_salud', 'uni_eco'],\n",
              "      dtype='object')"
            ]
          },
          "metadata": {
            "tags": []
          },
          "execution_count": 10
        }
      ]
    },
    {
      "cell_type": "code",
      "metadata": {
        "colab": {
          "base_uri": "https://localhost:8080/"
        },
        "id": "QvEWYzD7jSN8",
        "outputId": "91b8c0e5-6848-4d38-ff58-26f26ce5dc60"
      },
      "source": [
        "# Identificar valores con NaN\r\n",
        "df.isna().sum()"
      ],
      "execution_count": 11,
      "outputs": [
        {
          "output_type": "execute_result",
          "data": {
            "text/plain": [
              "sexo          14065\n",
              "edad          14065\n",
              "niv_educ          0\n",
              "sector            0\n",
              "ocu               0\n",
              "periodo           0\n",
              "jor_lab           0\n",
              "niv_ing           0\n",
              "inst_salud        0\n",
              "uni_eco           0\n",
              "dtype: int64"
            ]
          },
          "metadata": {
            "tags": []
          },
          "execution_count": 11
        }
      ]
    },
    {
      "cell_type": "code",
      "metadata": {
        "id": "JKhvu0M3it31"
      },
      "source": [
        " # Eliminar filas con NaN\r\n",
        "\r\n",
        "df = df.dropna(axis=0, how='any')"
      ],
      "execution_count": 12,
      "outputs": []
    },
    {
      "cell_type": "markdown",
      "metadata": {
        "id": "izhO-rVfbr3g"
      },
      "source": [
        "## Transformación de datos"
      ]
    },
    {
      "cell_type": "code",
      "metadata": {
        "colab": {
          "base_uri": "https://localhost:8080/"
        },
        "id": "ztlIiHFhq-cA",
        "outputId": "73090c3b-e04c-4935-d89c-222cf0151026"
      },
      "source": [
        "# Transformacion de datos float a int\r\n",
        "\r\n",
        "df['sexo'] = df['sexo'].astype(int)\r\n",
        "df['edad'] = df['edad'].astype(int)"
      ],
      "execution_count": 13,
      "outputs": [
        {
          "output_type": "stream",
          "text": [
            "/usr/local/lib/python3.7/dist-packages/ipykernel_launcher.py:3: SettingWithCopyWarning: \n",
            "A value is trying to be set on a copy of a slice from a DataFrame.\n",
            "Try using .loc[row_indexer,col_indexer] = value instead\n",
            "\n",
            "See the caveats in the documentation: https://pandas.pydata.org/pandas-docs/stable/user_guide/indexing.html#returning-a-view-versus-a-copy\n",
            "  This is separate from the ipykernel package so we can avoid doing imports until\n",
            "/usr/local/lib/python3.7/dist-packages/ipykernel_launcher.py:4: SettingWithCopyWarning: \n",
            "A value is trying to be set on a copy of a slice from a DataFrame.\n",
            "Try using .loc[row_indexer,col_indexer] = value instead\n",
            "\n",
            "See the caveats in the documentation: https://pandas.pydata.org/pandas-docs/stable/user_guide/indexing.html#returning-a-view-versus-a-copy\n",
            "  after removing the cwd from sys.path.\n"
          ],
          "name": "stderr"
        }
      ]
    },
    {
      "cell_type": "code",
      "metadata": {
        "id": "Ym0bW7w-DQ_Z"
      },
      "source": [
        "# Dividir estring de periodo"
      ],
      "execution_count": null,
      "outputs": []
    },
    {
      "cell_type": "code",
      "metadata": {
        "id": "9boro9VSbqVB"
      },
      "source": [
        "# Filtros:\r\n",
        "\r\n",
        "# Personas que están ocupadas\r\n",
        "\r\n",
        "ocupadas = df['ocu']==1\r\n",
        "\r\n",
        "# Personas que están en edad de trabajar, es decir, a los mayores de 15 años y menores de 65 años\r\n",
        "\r\n",
        "mayores_15 = df['edad']>=15\r\n",
        "menores_65 = df['edad']<=65\r\n",
        "\r\n",
        "# Nivel educativo especificado\r\n",
        "\r\n",
        "filtro_niv_educ = df['niv_educ']<5\r\n",
        "\r\n",
        "# Jornada laboral especificada\r\n",
        "\r\n",
        "filtro_jor_lab = df['jor_lab']<6\r\n",
        "\r\n",
        "# Nivel de ingresos  especificado\r\n",
        "\r\n",
        "filtro_niv_ing = df['niv_ing']<7\r\n",
        "\r\n",
        "# Acceso a institución de salud especificado\r\n",
        "\r\n",
        "filtro_inst_salud = df['inst_salud']<5\r\n",
        "\r\n",
        "# Tamaño de la unidad económica especificada\r\n",
        "\r\n",
        "filtro_uni_eco = df['uni_eco']<7\r\n",
        "\r\n",
        "\r\n",
        "# Unión de filtros\r\n",
        "\r\n",
        "df = df[ocupadas & mayores_15 & menores_65 & filtro_niv_educ & filtro_jor_lab & filtro_niv_ing & filtro_inst_salud & filtro_uni_eco]\r\n"
      ],
      "execution_count": 14,
      "outputs": []
    },
    {
      "cell_type": "code",
      "metadata": {
        "colab": {
          "base_uri": "https://localhost:8080/",
          "height": 419
        },
        "id": "wOu46D2RbyGL",
        "outputId": "1e968ad7-9dd3-49d0-c238-9d2fc6498c2d"
      },
      "source": [
        "df"
      ],
      "execution_count": 15,
      "outputs": [
        {
          "output_type": "execute_result",
          "data": {
            "text/html": [
              "<div>\n",
              "<style scoped>\n",
              "    .dataframe tbody tr th:only-of-type {\n",
              "        vertical-align: middle;\n",
              "    }\n",
              "\n",
              "    .dataframe tbody tr th {\n",
              "        vertical-align: top;\n",
              "    }\n",
              "\n",
              "    .dataframe thead th {\n",
              "        text-align: right;\n",
              "    }\n",
              "</style>\n",
              "<table border=\"1\" class=\"dataframe\">\n",
              "  <thead>\n",
              "    <tr style=\"text-align: right;\">\n",
              "      <th></th>\n",
              "      <th>sexo</th>\n",
              "      <th>edad</th>\n",
              "      <th>niv_educ</th>\n",
              "      <th>sector</th>\n",
              "      <th>ocu</th>\n",
              "      <th>periodo</th>\n",
              "      <th>jor_lab</th>\n",
              "      <th>niv_ing</th>\n",
              "      <th>inst_salud</th>\n",
              "      <th>uni_eco</th>\n",
              "    </tr>\n",
              "  </thead>\n",
              "  <tbody>\n",
              "    <tr>\n",
              "      <th>1</th>\n",
              "      <td>2</td>\n",
              "      <td>46</td>\n",
              "      <td>4</td>\n",
              "      <td>7</td>\n",
              "      <td>1</td>\n",
              "      <td>420</td>\n",
              "      <td>4</td>\n",
              "      <td>2</td>\n",
              "      <td>1</td>\n",
              "      <td>2</td>\n",
              "    </tr>\n",
              "    <tr>\n",
              "      <th>2</th>\n",
              "      <td>1</td>\n",
              "      <td>46</td>\n",
              "      <td>4</td>\n",
              "      <td>7</td>\n",
              "      <td>1</td>\n",
              "      <td>420</td>\n",
              "      <td>2</td>\n",
              "      <td>1</td>\n",
              "      <td>1</td>\n",
              "      <td>1</td>\n",
              "    </tr>\n",
              "    <tr>\n",
              "      <th>9</th>\n",
              "      <td>1</td>\n",
              "      <td>40</td>\n",
              "      <td>4</td>\n",
              "      <td>8</td>\n",
              "      <td>1</td>\n",
              "      <td>420</td>\n",
              "      <td>4</td>\n",
              "      <td>4</td>\n",
              "      <td>4</td>\n",
              "      <td>6</td>\n",
              "    </tr>\n",
              "    <tr>\n",
              "      <th>10</th>\n",
              "      <td>2</td>\n",
              "      <td>41</td>\n",
              "      <td>4</td>\n",
              "      <td>3</td>\n",
              "      <td>1</td>\n",
              "      <td>420</td>\n",
              "      <td>2</td>\n",
              "      <td>1</td>\n",
              "      <td>1</td>\n",
              "      <td>1</td>\n",
              "    </tr>\n",
              "    <tr>\n",
              "      <th>13</th>\n",
              "      <td>2</td>\n",
              "      <td>49</td>\n",
              "      <td>3</td>\n",
              "      <td>10</td>\n",
              "      <td>1</td>\n",
              "      <td>420</td>\n",
              "      <td>3</td>\n",
              "      <td>1</td>\n",
              "      <td>1</td>\n",
              "      <td>1</td>\n",
              "    </tr>\n",
              "    <tr>\n",
              "      <th>...</th>\n",
              "      <td>...</td>\n",
              "      <td>...</td>\n",
              "      <td>...</td>\n",
              "      <td>...</td>\n",
              "      <td>...</td>\n",
              "      <td>...</td>\n",
              "      <td>...</td>\n",
              "      <td>...</td>\n",
              "      <td>...</td>\n",
              "      <td>...</td>\n",
              "    </tr>\n",
              "    <tr>\n",
              "      <th>287151</th>\n",
              "      <td>2</td>\n",
              "      <td>24</td>\n",
              "      <td>4</td>\n",
              "      <td>10</td>\n",
              "      <td>1</td>\n",
              "      <td>220</td>\n",
              "      <td>1</td>\n",
              "      <td>2</td>\n",
              "      <td>1</td>\n",
              "      <td>2</td>\n",
              "    </tr>\n",
              "    <tr>\n",
              "      <th>287154</th>\n",
              "      <td>1</td>\n",
              "      <td>39</td>\n",
              "      <td>3</td>\n",
              "      <td>11</td>\n",
              "      <td>1</td>\n",
              "      <td>220</td>\n",
              "      <td>1</td>\n",
              "      <td>3</td>\n",
              "      <td>3</td>\n",
              "      <td>6</td>\n",
              "    </tr>\n",
              "    <tr>\n",
              "      <th>287155</th>\n",
              "      <td>1</td>\n",
              "      <td>25</td>\n",
              "      <td>1</td>\n",
              "      <td>4</td>\n",
              "      <td>1</td>\n",
              "      <td>220</td>\n",
              "      <td>3</td>\n",
              "      <td>1</td>\n",
              "      <td>1</td>\n",
              "      <td>2</td>\n",
              "    </tr>\n",
              "    <tr>\n",
              "      <th>287156</th>\n",
              "      <td>2</td>\n",
              "      <td>39</td>\n",
              "      <td>3</td>\n",
              "      <td>6</td>\n",
              "      <td>1</td>\n",
              "      <td>220</td>\n",
              "      <td>5</td>\n",
              "      <td>2</td>\n",
              "      <td>4</td>\n",
              "      <td>2</td>\n",
              "    </tr>\n",
              "    <tr>\n",
              "      <th>287157</th>\n",
              "      <td>1</td>\n",
              "      <td>33</td>\n",
              "      <td>4</td>\n",
              "      <td>5</td>\n",
              "      <td>1</td>\n",
              "      <td>220</td>\n",
              "      <td>5</td>\n",
              "      <td>4</td>\n",
              "      <td>1</td>\n",
              "      <td>2</td>\n",
              "    </tr>\n",
              "  </tbody>\n",
              "</table>\n",
              "<p>149011 rows × 10 columns</p>\n",
              "</div>"
            ],
            "text/plain": [
              "        sexo  edad  niv_educ  sector  ...  jor_lab  niv_ing  inst_salud  uni_eco\n",
              "1          2    46         4       7  ...        4        2           1        2\n",
              "2          1    46         4       7  ...        2        1           1        1\n",
              "9          1    40         4       8  ...        4        4           4        6\n",
              "10         2    41         4       3  ...        2        1           1        1\n",
              "13         2    49         3      10  ...        3        1           1        1\n",
              "...      ...   ...       ...     ...  ...      ...      ...         ...      ...\n",
              "287151     2    24         4      10  ...        1        2           1        2\n",
              "287154     1    39         3      11  ...        1        3           3        6\n",
              "287155     1    25         1       4  ...        3        1           1        2\n",
              "287156     2    39         3       6  ...        5        2           4        2\n",
              "287157     1    33         4       5  ...        5        4           1        2\n",
              "\n",
              "[149011 rows x 10 columns]"
            ]
          },
          "metadata": {
            "tags": []
          },
          "execution_count": 15
        }
      ]
    },
    {
      "cell_type": "markdown",
      "metadata": {
        "id": "5dwn3Milbzgq"
      },
      "source": [
        "## Gráficas"
      ]
    },
    {
      "cell_type": "code",
      "metadata": {
        "id": "cMN-hi0xb3nR"
      },
      "source": [
        "import matplotlib.pyplot as plt\r\n",
        "import numpy as np"
      ],
      "execution_count": 22,
      "outputs": []
    },
    {
      "cell_type": "code",
      "metadata": {
        "id": "b1vBnWG6lvkf"
      },
      "source": [
        "# Sector y nivel de ingreso\r\n",
        "\r\n",
        "\r\n",
        "# Sector y jornada laboral\r\n",
        "\r\n",
        "\r\n",
        "# "
      ],
      "execution_count": null,
      "outputs": []
    }
  ]
}