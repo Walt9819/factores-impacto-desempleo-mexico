{
  "nbformat": 4,
  "nbformat_minor": 0,
  "metadata": {
    "colab": {
      "name": "FactoresDeImpactoEnDesempleoMX.ipynb",
      "provenance": [],
      "authorship_tag": "ABX9TyNg3e98o4ysYNmKQvJyHIQp",
      "include_colab_link": true
    },
    "kernelspec": {
      "name": "python3",
      "display_name": "Python 3"
    }
  },
  "cells": [
    {
      "cell_type": "markdown",
      "metadata": {
        "id": "view-in-github",
        "colab_type": "text"
      },
      "source": [
        "<a href=\"https://colab.research.google.com/github/Walt9819/factores-impacto-desempleo-mexico/blob/main/Python/FactoresDeImpactoEnDesempleoMX.ipynb\" target=\"_parent\"><img src=\"https://colab.research.google.com/assets/colab-badge.svg\" alt=\"Open In Colab\"/></a>"
      ]
    },
    {
      "cell_type": "markdown",
      "metadata": {
        "id": "NvG5ecx2yx1Q"
      },
      "source": [
        "# Equipo 18\r\n",
        "\r\n",
        "BEDU - Santander: Módulo 2. Procesamiento de Datos con Python\r\n",
        "\r\n",
        "Proyecto del equipo 18\r\n",
        "\r\n",
        "**Integrantes:**\r\n",
        "- Irene López [ver perfil](https://www.linkedin.com/in/irene-lopez-rodriguez/)\r\n",
        "- Laura Lozano [ver perfil](https://www.linkedin.com/in/laura-lozano-bautista/)\r\n",
        "- Enrique Rodríguez [ver perfil](https://www.linkedin.com/in/enrique-rodriguez97/)\r\n",
        "- Walter Rosales [ver perfil]()\r\n",
        "\r\n",
        "# Factores de Impacto en el Desempleo y la Recuperación Económica en México\r\n",
        "\r\n",
        "## Objetivo\r\n",
        "Analizar la situación del empleo en México durante los tres primeros trimestres de 2020, asimismo, calcular la probabilidad de estar desempleado conforme a características sociodemográficas y así identificar los perfiles de los mexicanos más vulnerables ante el deterioro del mercado laboral derivado de la situación que vivimos hoy en día."
      ]
    },
    {
      "cell_type": "code",
      "metadata": {
        "id": "H5UHlYEsyw-k"
      },
      "source": [
        "import pandas as pd"
      ],
      "execution_count": null,
      "outputs": []
    }
  ]
}